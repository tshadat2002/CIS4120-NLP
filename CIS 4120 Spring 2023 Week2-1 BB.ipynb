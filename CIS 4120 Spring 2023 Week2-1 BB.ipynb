{
 "cells": [
  {
   "cell_type": "markdown",
   "id": "37f03dd3",
   "metadata": {},
   "source": [
    "# Week 2-1\n",
    "\n",
    "## Contents of Today's Lecture\n",
    "\n",
    "### - Pandas DataFrame (sorting, subsetting, generating new columns)"
   ]
  },
  {
   "cell_type": "code",
   "execution_count": 1,
   "id": "34b1cc9e",
   "metadata": {},
   "outputs": [],
   "source": [
    "#head(): returns the first few rows.\n",
    "#info(): shows information on each of the columns, such as the data type.\n",
    "#shape: returns the number of rows and columns of the DataFrame.\n",
    "#describe(): calculates a few summary statistics for each column."
   ]
  },
  {
   "cell_type": "code",
   "execution_count": 2,
   "id": "c3487284",
   "metadata": {},
   "outputs": [],
   "source": [
    "import os"
   ]
  },
  {
   "cell_type": "code",
   "execution_count": 3,
   "id": "403c5827",
   "metadata": {},
   "outputs": [
    {
     "data": {
      "text/plain": [
       "'/Users/taohidshadat/PythonStuff/CIS4120'"
      ]
     },
     "execution_count": 3,
     "metadata": {},
     "output_type": "execute_result"
    }
   ],
   "source": [
    "os.getcwd()"
   ]
  },
  {
   "cell_type": "code",
   "execution_count": 4,
   "id": "fb9411b1",
   "metadata": {},
   "outputs": [],
   "source": [
    "os.chdir('/Users/taohidshadat/Downloads')"
   ]
  },
  {
   "cell_type": "code",
   "execution_count": 5,
   "id": "04f679b8",
   "metadata": {},
   "outputs": [
    {
     "data": {
      "text/plain": [
       "'/Users/taohidshadat/Downloads'"
      ]
     },
     "execution_count": 5,
     "metadata": {},
     "output_type": "execute_result"
    }
   ],
   "source": [
    "os.getcwd()"
   ]
  },
  {
   "cell_type": "code",
   "execution_count": 6,
   "id": "89acaae2",
   "metadata": {},
   "outputs": [
    {
     "data": {
      "text/html": [
       "<div>\n",
       "<style scoped>\n",
       "    .dataframe tbody tr th:only-of-type {\n",
       "        vertical-align: middle;\n",
       "    }\n",
       "\n",
       "    .dataframe tbody tr th {\n",
       "        vertical-align: top;\n",
       "    }\n",
       "\n",
       "    .dataframe thead th {\n",
       "        text-align: right;\n",
       "    }\n",
       "</style>\n",
       "<table border=\"1\" class=\"dataframe\">\n",
       "  <thead>\n",
       "    <tr style=\"text-align: right;\">\n",
       "      <th></th>\n",
       "      <th>region</th>\n",
       "      <th>state</th>\n",
       "      <th>individuals</th>\n",
       "      <th>family_members</th>\n",
       "      <th>state_pop</th>\n",
       "    </tr>\n",
       "  </thead>\n",
       "  <tbody>\n",
       "    <tr>\n",
       "      <th>0</th>\n",
       "      <td>East South Central</td>\n",
       "      <td>Alabama</td>\n",
       "      <td>2570</td>\n",
       "      <td>864</td>\n",
       "      <td>4887681</td>\n",
       "    </tr>\n",
       "    <tr>\n",
       "      <th>1</th>\n",
       "      <td>Pacific</td>\n",
       "      <td>Alaska</td>\n",
       "      <td>1434</td>\n",
       "      <td>582</td>\n",
       "      <td>735139</td>\n",
       "    </tr>\n",
       "    <tr>\n",
       "      <th>2</th>\n",
       "      <td>Mountain</td>\n",
       "      <td>Arizona</td>\n",
       "      <td>7259</td>\n",
       "      <td>2606</td>\n",
       "      <td>7158024</td>\n",
       "    </tr>\n",
       "    <tr>\n",
       "      <th>3</th>\n",
       "      <td>West South Central</td>\n",
       "      <td>Arkansas</td>\n",
       "      <td>2280</td>\n",
       "      <td>432</td>\n",
       "      <td>3009733</td>\n",
       "    </tr>\n",
       "    <tr>\n",
       "      <th>4</th>\n",
       "      <td>Pacific</td>\n",
       "      <td>California</td>\n",
       "      <td>109008</td>\n",
       "      <td>20964</td>\n",
       "      <td>39461588</td>\n",
       "    </tr>\n",
       "  </tbody>\n",
       "</table>\n",
       "</div>"
      ],
      "text/plain": [
       "               region       state  individuals  family_members  state_pop\n",
       "0  East South Central     Alabama         2570             864    4887681\n",
       "1             Pacific      Alaska         1434             582     735139\n",
       "2            Mountain     Arizona         7259            2606    7158024\n",
       "3  West South Central    Arkansas         2280             432    3009733\n",
       "4             Pacific  California       109008           20964   39461588"
      ]
     },
     "execution_count": 6,
     "metadata": {},
     "output_type": "execute_result"
    }
   ],
   "source": [
    "import pandas as pd \n",
    "\n",
    "#import the data.\n",
    "file= \"homelessness_no_index.csv\"\n",
    "data = pd.read_csv(file) \n",
    "data=pd.DataFrame(data)\n",
    "\n",
    "# Print the head of the data.\n",
    "data.head()"
   ]
  },
  {
   "cell_type": "code",
   "execution_count": 7,
   "id": "19382297",
   "metadata": {},
   "outputs": [],
   "source": [
    "#individual: the number of homeless individuals not part of a family with children. \n",
    "#family_members: the number of homeless individuals part of a family with children. \n",
    "#state_pop: the state's total population."
   ]
  },
  {
   "cell_type": "code",
   "execution_count": 8,
   "id": "aa4a49c1",
   "metadata": {},
   "outputs": [
    {
     "name": "stdout",
     "output_type": "stream",
     "text": [
      "<class 'pandas.core.frame.DataFrame'>\n",
      "RangeIndex: 51 entries, 0 to 50\n",
      "Data columns (total 5 columns):\n",
      " #   Column          Non-Null Count  Dtype \n",
      "---  ------          --------------  ----- \n",
      " 0   region          51 non-null     object\n",
      " 1   state           51 non-null     object\n",
      " 2   individuals     51 non-null     int64 \n",
      " 3   family_members  51 non-null     int64 \n",
      " 4   state_pop       51 non-null     int64 \n",
      "dtypes: int64(3), object(2)\n",
      "memory usage: 2.1+ KB\n",
      "None\n"
     ]
    }
   ],
   "source": [
    "# Print information about the data.\n",
    "print(data.info())"
   ]
  },
  {
   "cell_type": "code",
   "execution_count": 9,
   "id": "0659d927",
   "metadata": {},
   "outputs": [
    {
     "name": "stdout",
     "output_type": "stream",
     "text": [
      "(51, 5)\n",
      "         individuals  family_members     state_pop\n",
      "count      51.000000       51.000000  5.100000e+01\n",
      "mean     7225.784314     3504.882353  6.405637e+06\n",
      "std     15991.025083     7805.411811  7.327258e+06\n",
      "min       434.000000       75.000000  5.776010e+05\n",
      "25%      1446.500000      592.000000  1.777414e+06\n",
      "50%      3082.000000     1482.000000  4.461153e+06\n",
      "75%      6781.500000     3196.000000  7.340946e+06\n",
      "max    109008.000000    52070.000000  3.946159e+07\n"
     ]
    }
   ],
   "source": [
    "# Print the shape.\n",
    "print(data.shape)\n",
    "\n",
    "# Print a description.\n",
    "print (data.describe())"
   ]
  },
  {
   "cell_type": "code",
   "execution_count": 10,
   "id": "995abbd7",
   "metadata": {},
   "outputs": [],
   "source": [
    "#columns: An index of columns: the column names.\n",
    "#index: An index for the rows: either row numbers or row names."
   ]
  },
  {
   "cell_type": "code",
   "execution_count": 11,
   "id": "697683ff",
   "metadata": {},
   "outputs": [
    {
     "name": "stdout",
     "output_type": "stream",
     "text": [
      "['region' 'state' 'individuals' 'family_members' 'state_pop']\n",
      "RangeIndex(start=0, stop=51, step=1)\n"
     ]
    }
   ],
   "source": [
    "# Print the column index.\n",
    "print (data.columns.values)\n",
    "\n",
    "# Print the row index.\n",
    "print (data.index)"
   ]
  },
  {
   "cell_type": "code",
   "execution_count": 12,
   "id": "3338c677",
   "metadata": {},
   "outputs": [],
   "source": [
    "#sort_values(): change the order of the rows.\n",
    "#on a single col: df.sort_values(\"col A\")\n",
    "#on multiple cols: df.sort_values([\"col A\",\"col B\"])"
   ]
  },
  {
   "cell_type": "code",
   "execution_count": 13,
   "id": "a27ed8f7",
   "metadata": {},
   "outputs": [
    {
     "name": "stdout",
     "output_type": "stream",
     "text": [
      "                region          state  individuals  family_members  state_pop\n",
      "50            Mountain        Wyoming          434             205     577601\n",
      "34  West North Central   North Dakota          467              75     758080\n",
      "7       South Atlantic       Delaware          708             374     965479\n",
      "39         New England   Rhode Island          747             354    1058287\n",
      "45         New England        Vermont          780             511     624358\n",
      "29         New England  New Hampshire          835             615    1353465\n",
      "41  West North Central   South Dakota          836             323     878698\n"
     ]
    }
   ],
   "source": [
    "# Sort the data by individuals.\n",
    "data_sorted = data.sort_values(\"individuals\")\n",
    "\n",
    "# Print the top 7 rows.\n",
    "print(data_sorted.head(7))"
   ]
  },
  {
   "cell_type": "code",
   "execution_count": 14,
   "id": "b1bbb68f",
   "metadata": {},
   "outputs": [
    {
     "name": "stdout",
     "output_type": "stream",
     "text": [
      "                region         state  individuals  family_members  state_pop\n",
      "4              Pacific    California       109008           20964   39461588\n",
      "32        Mid-Atlantic      New York        39827           52070   19530351\n",
      "9       South Atlantic       Florida        21443            9587   21244317\n",
      "43  West South Central         Texas        19199            6111   28628666\n",
      "47             Pacific    Washington        16424            5880    7523869\n",
      "37             Pacific        Oregon        11139            3337    4181886\n",
      "38        Mid-Atlantic  Pennsylvania         8163            5349   12800922\n"
     ]
    }
   ],
   "source": [
    "# Sort data by descending individuals.\n",
    "data_sorted_v2 = data.sort_values(\"individuals\", ascending=False)\n",
    "\n",
    "# Print the top 7 rows.\n",
    "print(data_sorted_v2.head(7))"
   ]
  },
  {
   "cell_type": "code",
   "execution_count": 15,
   "id": "531f365c",
   "metadata": {},
   "outputs": [
    {
     "name": "stdout",
     "output_type": "stream",
     "text": [
      "                region      state  individuals  family_members  state_pop\n",
      "13  East North Central   Illinois         6752            3891   12723071\n",
      "35  East North Central       Ohio         6929            3320   11676341\n",
      "22  East North Central   Michigan         5209            3142    9984072\n",
      "49  East North Central  Wisconsin         2740            2167    5807406\n",
      "14  East North Central    Indiana         3776            1482    6695497\n",
      "42  East South Central  Tennessee         6139            1744    6771631\n",
      "17  East South Central   Kentucky         2735             953    4461153\n"
     ]
    }
   ],
   "source": [
    "# Sort data by region, then descending family members.\n",
    "data_sorted_v3 = data.sort_values([\"region\", \"family_members\"], ascending=[True, False])\n",
    "\n",
    "# Print the top 7 rows.\n",
    "print(data_sorted_v3.head(7))"
   ]
  },
  {
   "cell_type": "code",
   "execution_count": 16,
   "id": "c09ca1c6",
   "metadata": {},
   "outputs": [],
   "source": [
    "#Subsetting columns or rows."
   ]
  },
  {
   "cell_type": "code",
   "execution_count": 17,
   "id": "422299e3",
   "metadata": {},
   "outputs": [
    {
     "name": "stdout",
     "output_type": "stream",
     "text": [
      "         state  family_members\n",
      "0      Alabama             864\n",
      "1       Alaska             582\n",
      "2      Arizona            2606\n",
      "3     Arkansas             432\n",
      "4   California           20964\n",
      "5     Colorado            3250\n",
      "6  Connecticut            1696\n"
     ]
    }
   ],
   "source": [
    "# Select the state and family_members columns\n",
    "sub_data = data[[\"state\",\"family_members\"]]\n",
    "\n",
    "# Print the head of the result\n",
    "print (sub_data.head(7))"
   ]
  },
  {
   "cell_type": "code",
   "execution_count": 18,
   "id": "97f80b42",
   "metadata": {},
   "outputs": [
    {
     "name": "stdout",
     "output_type": "stream",
     "text": [
      "                region       state  individuals  family_members  state_pop\n",
      "4              Pacific  California       109008           20964   39461588\n",
      "9       South Atlantic     Florida        21443            9587   21244317\n",
      "32        Mid-Atlantic    New York        39827           52070   19530351\n",
      "37             Pacific      Oregon        11139            3337    4181886\n",
      "43  West South Central       Texas        19199            6111   28628666\n",
      "47             Pacific  Washington        16424            5880    7523869\n",
      "\n",
      "\n",
      "      region       state  individuals  family_members  state_pop\n",
      "2   Mountain     Arizona         7259            2606    7158024\n",
      "5   Mountain    Colorado         7607            3250    5691287\n",
      "12  Mountain       Idaho         1297             715    1750536\n",
      "26  Mountain     Montana          983             422    1060665\n",
      "28  Mountain      Nevada         7058             486    3027341\n",
      "31  Mountain  New Mexico         1949             602    2092741\n",
      "44  Mountain        Utah         1904             972    3153550\n",
      "50  Mountain     Wyoming          434             205     577601\n",
      "\n",
      "\n",
      "    region   state  individuals  family_members  state_pop\n",
      "1  Pacific  Alaska         1434             582     735139\n"
     ]
    }
   ],
   "source": [
    "# Filter for rows where individuals is greater than 10000\n",
    "output_1 = data[data[\"individuals\"]>10000]\n",
    "print(output_1)\n",
    "print ()\n",
    "print ()\n",
    "# Filter for rows where region is Mountain\n",
    "output_2 = data[data[\"region\"]==\"Mountain\"]\n",
    "print (output_2)\n",
    "print ()\n",
    "print ()\n",
    "# Filter for rows where family_members is less than 1000 and region is Pacific\n",
    "output_3 = data[(data[\"family_members\"]<1000) & (data[\"region\"]==\"Pacific\")]\n",
    "print(output_3)"
   ]
  },
  {
   "cell_type": "code",
   "execution_count": 19,
   "id": "1acced52",
   "metadata": {},
   "outputs": [
    {
     "name": "stdout",
     "output_type": "stream",
     "text": [
      "      region       state  individuals  family_members  state_pop\n",
      "4    Pacific  California       109008           20964   39461588\n",
      "28  Mountain      Nevada         7058             486    3027341\n"
     ]
    }
   ],
   "source": [
    "# CA, NV\n",
    "ca_nv = [\"California\", \"Nevada\"]\n",
    "\n",
    "# Filter for rows in the CA, NV states (subsetting rows in CA or NV)\n",
    "data111 = data[data[\"state\"].isin(ca_nv)]  #instead of using or multiple times\n",
    "\n",
    "# See the result\n",
    "print(data111)"
   ]
  },
  {
   "cell_type": "code",
   "execution_count": 20,
   "id": "0d97ad10",
   "metadata": {},
   "outputs": [],
   "source": [
    "#adding new columns."
   ]
  },
  {
   "cell_type": "code",
   "execution_count": 21,
   "id": "2375d0e9",
   "metadata": {},
   "outputs": [
    {
     "name": "stdout",
     "output_type": "stream",
     "text": [
      "               region        state  individuals  family_members  state_pop  \\\n",
      "0  East South Central      Alabama         2570             864    4887681   \n",
      "1             Pacific       Alaska         1434             582     735139   \n",
      "2            Mountain      Arizona         7259            2606    7158024   \n",
      "3  West South Central     Arkansas         2280             432    3009733   \n",
      "4             Pacific   California       109008           20964   39461588   \n",
      "5            Mountain     Colorado         7607            3250    5691287   \n",
      "6         New England  Connecticut         2280            1696    3571520   \n",
      "\n",
      "    total  p_individuals  \n",
      "0    3434       0.748398  \n",
      "1    2016       0.711310  \n",
      "2    9865       0.735834  \n",
      "3    2712       0.840708  \n",
      "4  129972       0.838704  \n",
      "5   10857       0.700654  \n",
      "6    3976       0.573441  \n"
     ]
    }
   ],
   "source": [
    "# Add total col as sum of individuals and family_members.\n",
    "data[\"total\"] = data[\"individuals\"] + data[\"family_members\"]\n",
    "\n",
    "# Add portion_individuals col as proportion of total that are individuals.\n",
    "data[\"p_individuals\"] = data[\"individuals\"] / data[\"total\"]\n",
    "\n",
    "# See the result\n",
    "print (data.head(7))"
   ]
  },
  {
   "cell_type": "markdown",
   "id": "6133bead",
   "metadata": {},
   "source": [
    "### - Aggregate Data (summry statistics, counting, grouping)"
   ]
  },
  {
   "cell_type": "code",
   "execution_count": 22,
   "id": "8feb701e",
   "metadata": {},
   "outputs": [
    {
     "name": "stdout",
     "output_type": "stream",
     "text": [
      "   store type  department      date  weekly_sales  is_holiday  temperature_c  \\\n",
      "0      1    A           1  2/5/2010      24924.50       False       5.727778   \n",
      "1      1    A           1  3/5/2010      21827.90       False       8.055556   \n",
      "2      1    A           1  4/2/2010      57258.43       False      16.816667   \n",
      "3      1    A           1  5/7/2010      17413.94       False      22.527778   \n",
      "4      1    A           1  6/4/2010      17558.09       False      27.050000   \n",
      "\n",
      "   fuel_price_usd_per_l  unemployment  \n",
      "0              0.679451         8.106  \n",
      "1              0.693452         8.106  \n",
      "2              0.718284         7.808  \n",
      "3              0.748928         7.808  \n",
      "4              0.714586         7.808  \n"
     ]
    }
   ],
   "source": [
    "import pandas as pd \n",
    "\n",
    "#import the data.\n",
    "file=\"supermarket_no_index.csv\"\n",
    "market = pd.read_csv(file) \n",
    "market=pd.DataFrame(market)\n",
    "\n",
    "# Print the head of the data.\n",
    "print(market.head())"
   ]
  },
  {
   "cell_type": "code",
   "execution_count": 23,
   "id": "4c4fb0af",
   "metadata": {},
   "outputs": [
    {
     "name": "stdout",
     "output_type": "stream",
     "text": [
      "23843.950148505668\n",
      "12049.064999999999\n",
      "9/9/2011\n",
      "1/13/2012\n"
     ]
    }
   ],
   "source": [
    "# Print the mean of weekly_sales\n",
    "print(market[\"weekly_sales\"].mean())\n",
    "\n",
    "# Print the median of weekly_sales\n",
    "print(market[\"weekly_sales\"].median())\n",
    "\n",
    "# Print the maximum of the date column\n",
    "print (market[\"date\"].max())\n",
    "\n",
    "# Print the minimum of the date column\n",
    "print (market[\"date\"].min())"
   ]
  },
  {
   "cell_type": "code",
   "execution_count": 24,
   "id": "d283a729",
   "metadata": {},
   "outputs": [],
   "source": [
    "#subset the rows which contains the sales data for department 1 of store 1.\n",
    "market_subset = market[(market[\"department\"]==1) & (market[\"store\"]==1)]"
   ]
  },
  {
   "cell_type": "code",
   "execution_count": 25,
   "id": "f60df1d7",
   "metadata": {},
   "outputs": [
    {
     "name": "stdout",
     "output_type": "stream",
     "text": [
      "    store type  department       date  weekly_sales  is_holiday  \\\n",
      "11      1    A           1   1/7/2011      15984.24       False   \n",
      "8       1    A           1  10/1/2010      20094.19       False   \n",
      "9       1    A           1  11/5/2010      34238.88       False   \n",
      "10      1    A           1  12/3/2010      22517.56       False   \n",
      "0       1    A           1   2/5/2010      24924.50       False   \n",
      "1       1    A           1   3/5/2010      21827.90       False   \n",
      "2       1    A           1   4/2/2010      57258.43       False   \n",
      "3       1    A           1   5/7/2010      17413.94       False   \n",
      "4       1    A           1   6/4/2010      17558.09       False   \n",
      "5       1    A           1   7/2/2010      16333.14       False   \n",
      "6       1    A           1   8/6/2010      17508.41       False   \n",
      "7       1    A           1   9/3/2010      16241.78       False   \n",
      "\n",
      "    temperature_c  fuel_price_usd_per_l  unemployment  \n",
      "11       9.038889              0.786176         7.742  \n",
      "8       22.161111              0.687640         7.838  \n",
      "9       14.855556              0.710359         7.838  \n",
      "10       9.594444              0.715378         7.838  \n",
      "0        5.727778              0.679451         8.106  \n",
      "1        8.055556              0.693452         8.106  \n",
      "2       16.816667              0.718284         7.808  \n",
      "3       22.527778              0.748928         7.808  \n",
      "4       27.050000              0.714586         7.808  \n",
      "5       27.172222              0.705076         7.787  \n",
      "6       30.644444              0.693980         7.787  \n",
      "7       27.338889              0.680772         7.787  \n",
      "\n",
      "         date  weekly_sales  cum_weekly_sales  cum_max_sales\n",
      "11   1/7/2011      15984.24          15984.24       15984.24\n",
      "8   10/1/2010      20094.19          36078.43       20094.19\n",
      "9   11/5/2010      34238.88          70317.31       34238.88\n",
      "10  12/3/2010      22517.56          92834.87       34238.88\n",
      "0    2/5/2010      24924.50         117759.37       34238.88\n",
      "1    3/5/2010      21827.90         139587.27       34238.88\n",
      "2    4/2/2010      57258.43         196845.70       57258.43\n",
      "3    5/7/2010      17413.94         214259.64       57258.43\n",
      "4    6/4/2010      17558.09         231817.73       57258.43\n",
      "5    7/2/2010      16333.14         248150.87       57258.43\n",
      "6    8/6/2010      17508.41         265659.28       57258.43\n",
      "7    9/3/2010      16241.78         281901.06       57258.43\n"
     ]
    }
   ],
   "source": [
    "# Sort market_subset by date\n",
    "market_subset = market_subset.sort_values(\"date\")\n",
    "print (market_subset)\n",
    "\n",
    "# Get the cumulative sum of weekly_sales, add as cum_weekly_sales col\n",
    "market_subset[\"cum_weekly_sales\"] = market_subset[\"weekly_sales\"].cumsum()\n",
    "\n",
    "# Get the cumulative max of weekly_sales, add as cum_max_sales col\n",
    "market_subset[\"cum_max_sales\"] = market_subset[\"weekly_sales\"].cummax()\n",
    "print ()\n",
    "# See the columns you calculated\n",
    "print(market_subset[[\"date\", \"weekly_sales\", \"cum_weekly_sales\", \"cum_max_sales\"]])"
   ]
  },
  {
   "cell_type": "code",
   "execution_count": 26,
   "id": "39c2ce36",
   "metadata": {},
   "outputs": [
    {
     "name": "stdout",
     "output_type": "stream",
     "text": [
      "      store type  department      date  weekly_sales  is_holiday  \\\n",
      "0         1    A           1  2/5/2010      24924.50       False   \n",
      "901       2    A           1  2/5/2010      35034.06       False   \n",
      "1798      4    A           1  2/5/2010      38724.42       False   \n",
      "2699      6    A           1  2/5/2010      25619.00       False   \n",
      "3593     10    B           1  2/5/2010      40212.84       False   \n",
      "4495     13    A           1  2/5/2010      46761.90       False   \n",
      "5408     14    A           1  2/5/2010      32842.31       False   \n",
      "6293     19    A           1  2/5/2010      21500.58       False   \n",
      "7199     20    A           1  2/5/2010      46021.21       False   \n",
      "8109     27    A           1  2/5/2010      32313.79       False   \n",
      "9009     31    A           1  2/5/2010      18187.71       False   \n",
      "9899     39    A           1  2/5/2010      21244.50       False   \n",
      "\n",
      "      temperature_c  fuel_price_usd_per_l  unemployment  \n",
      "0          5.727778              0.679451         8.106  \n",
      "901        4.550000              0.679451         8.324  \n",
      "1798       6.533333              0.686319         8.623  \n",
      "2699       4.683333              0.679451         7.259  \n",
      "3593      12.411111              0.782478         9.765  \n",
      "4495      -0.261111              0.704283         8.316  \n",
      "5408      -2.605556              0.735455         8.992  \n",
      "6293      -6.133333              0.780365         8.350  \n",
      "7199      -3.377778              0.735455         8.187  \n",
      "8109      -2.672222              0.780365         8.237  \n",
      "9009       3.916667              0.679451         8.324  \n",
      "9899       6.833333              0.679451         8.554  \n",
      "\n",
      "\n",
      "    store type  department      date  weekly_sales  is_holiday  temperature_c  \\\n",
      "0       1    A           1  2/5/2010      24924.50       False       5.727778   \n",
      "12      1    A           2  2/5/2010      50605.27       False       5.727778   \n",
      "24      1    A           3  2/5/2010      13740.12       False       5.727778   \n",
      "36      1    A           4  2/5/2010      39954.04       False       5.727778   \n",
      "48      1    A           5  2/5/2010      32229.38       False       5.727778   \n",
      "\n",
      "    fuel_price_usd_per_l  unemployment  \n",
      "0               0.679451         8.106  \n",
      "12              0.679451         8.106  \n",
      "24              0.679451         8.106  \n",
      "36              0.679451         8.106  \n",
      "48              0.679451         8.106  \n"
     ]
    }
   ],
   "source": [
    "#drop_duplicates()\n",
    "\n",
    "# Drop duplicate store/type combinations\n",
    "store_types = market.drop_duplicates([\"store\",\"type\"])\n",
    "print(store_types)\n",
    "print ()\n",
    "print ()\n",
    "# Drop duplicate store/department combinations\n",
    "store_depts = market.drop_duplicates([\"store\",\"department\"])\n",
    "print(store_depts.head())"
   ]
  },
  {
   "cell_type": "code",
   "execution_count": 27,
   "id": "27ff96e6",
   "metadata": {},
   "outputs": [
    {
     "name": "stdout",
     "output_type": "stream",
     "text": [
      "A    11\n",
      "B     1\n",
      "Name: type, dtype: int64\n",
      "A    0.916667\n",
      "B    0.083333\n",
      "Name: type, dtype: float64\n",
      "1     12\n",
      "55    12\n",
      "72    12\n",
      "71    12\n",
      "67    12\n",
      "      ..\n",
      "37    10\n",
      "48     8\n",
      "50     6\n",
      "39     4\n",
      "43     2\n",
      "Name: department, Length: 80, dtype: int64\n",
      "1     0.012917\n",
      "55    0.012917\n",
      "72    0.012917\n",
      "71    0.012917\n",
      "67    0.012917\n",
      "        ...   \n",
      "37    0.010764\n",
      "48    0.008611\n",
      "50    0.006459\n",
      "39    0.004306\n",
      "43    0.002153\n",
      "Name: department, Length: 80, dtype: float64\n"
     ]
    }
   ],
   "source": [
    "#value_counts()\n",
    "\n",
    "# Count the number of stores of each type\n",
    "store_counts = store_types[\"type\"].value_counts()\n",
    "print(store_counts)\n",
    "\n",
    "# Get the proportion of stores of each type\n",
    "store_props = store_types[\"type\"].value_counts(normalize=True)\n",
    "print(store_props)\n",
    "\n",
    "# Count the number of each department number and sort the counts in descending order.\n",
    "dept_counts_sorted = store_depts[\"department\"].value_counts(sort=True)\n",
    "print(dept_counts_sorted)\n",
    "\n",
    "# Get the proportion of departments of each number and sort the counts in descending order.\n",
    "dept_props_sorted = store_depts[\"department\"].value_counts(sort=True, normalize=True)\n",
    "print(dept_props_sorted)"
   ]
  },
  {
   "cell_type": "code",
   "execution_count": 28,
   "id": "ec192320",
   "metadata": {},
   "outputs": [
    {
     "name": "stdout",
     "output_type": "stream",
     "text": [
      "256894718.89999998\n",
      "233716315.01\n",
      "23178403.89\n",
      "0.0\n",
      "[0.9097747 0.0902253 0.       ]\n"
     ]
    }
   ],
   "source": [
    "#3 types of stores: \"supercenters,\" \"discount stores,\" and \"neighborhood markets\n",
    "#encoded as A, B, and C\n",
    "\n",
    "# Calc total weekly sales\n",
    "sales_all = market[\"weekly_sales\"].sum()\n",
    "print (sales_all)\n",
    "\n",
    "# Subset for type A stores, calc total weekly sales\n",
    "sales_A = market[market[\"type\"] == \"A\"][\"weekly_sales\"].sum()\n",
    "print (sales_A)\n",
    "\n",
    "# Subset for type B stores, calc total weekly sales\n",
    "sales_B = market[market[\"type\"] == \"B\"][\"weekly_sales\"].sum()\n",
    "print (sales_B)\n",
    "\n",
    "# Subset for type C stores, calc total weekly sales\n",
    "sales_C = market[market[\"type\"] == \"C\"][\"weekly_sales\"].sum()\n",
    "print (sales_C)\n",
    "\n",
    "# Get proportion for each type\n",
    "sales_by_type = [sales_A, sales_B, sales_C] / sales_all\n",
    "print(sales_by_type)"
   ]
  },
  {
   "cell_type": "code",
   "execution_count": 29,
   "id": "ac776d56",
   "metadata": {},
   "outputs": [
    {
     "name": "stdout",
     "output_type": "stream",
     "text": [
      "type\n",
      "A    2.337163e+08\n",
      "B    2.317840e+07\n",
      "Name: weekly_sales, dtype: float64\n",
      "\n",
      "type\n",
      "A    0.909775\n",
      "B    0.090225\n",
      "Name: weekly_sales, dtype: float64\n"
     ]
    }
   ],
   "source": [
    "#groupby()\n",
    "\n",
    "# Group by type; calculate total weekly sales\n",
    "sales_by_type = market.groupby(\"type\")[\"weekly_sales\"].sum()\n",
    "print (sales_by_type)\n",
    "print ()\n",
    "\n",
    "# Get proportion for each type\n",
    "sales_propn_by_type = sales_by_type / sum(sales_by_type)\n",
    "print(sales_propn_by_type)"
   ]
  },
  {
   "cell_type": "code",
   "execution_count": 30,
   "id": "92e77b10",
   "metadata": {},
   "outputs": [
    {
     "name": "stdout",
     "output_type": "stream",
     "text": [
      "               region       state  individuals  family_members  state_pop\n",
      "0  East South Central     Alabama         2570             864    4887681\n",
      "1             Pacific      Alaska         1434             582     735139\n",
      "2            Mountain     Arizona         7259            2606    7158024\n",
      "3  West South Central    Arkansas         2280             432    3009733\n",
      "4             Pacific  California       109008           20964   39461588\n",
      "\n",
      "Get 23rd row, 2nd column: Michigan\n",
      "\n",
      "               region       state  individuals  family_members  state_pop\n",
      "0  East South Central     Alabama         2570             864    4887681\n",
      "1             Pacific      Alaska         1434             582     735139\n",
      "2            Mountain     Arizona         7259            2606    7158024\n",
      "3  West South Central    Arkansas         2280             432    3009733\n",
      "4             Pacific  California       109008           20964   39461588\n",
      "    individuals  family_members\n",
      "0          2570             864\n",
      "1          1434             582\n",
      "2          7259            2606\n",
      "3          2280             432\n",
      "4        109008           20964\n",
      "5          7607            3250\n",
      "6          2280            1696\n",
      "7           708             374\n",
      "8          3770            3134\n",
      "9         21443            9587\n",
      "10         6943            2556\n",
      "11         4131            2399\n",
      "12         1297             715\n",
      "13         6752            3891\n",
      "14         3776            1482\n",
      "15         1711            1038\n",
      "16         1443             773\n",
      "17         2735             953\n",
      "18         2540             519\n",
      "19         1450            1066\n",
      "20         4914            2230\n",
      "21         6811           13257\n",
      "22         5209            3142\n",
      "23         3993            3250\n",
      "24         1024             328\n",
      "25         3776            2107\n",
      "26          983             422\n",
      "27         1745             676\n",
      "28         7058             486\n",
      "29          835             615\n",
      "30         6048            3350\n",
      "31         1949             602\n",
      "32        39827           52070\n",
      "33         6451            2817\n",
      "34          467              75\n",
      "35         6929            3320\n",
      "36         2823            1048\n",
      "37        11139            3337\n",
      "38         8163            5349\n",
      "39          747             354\n",
      "40         3082             851\n",
      "41          836             323\n",
      "42         6139            1744\n",
      "43        19199            6111\n",
      "44         1904             972\n",
      "45          780             511\n",
      "46         3928            2047\n",
      "47        16424            5880\n",
      "48         1021             222\n",
      "49         2740            2167\n",
      "50          434             205\n",
      "   individuals  family_members\n",
      "0         2570             864\n",
      "1         1434             582\n",
      "2         7259            2606\n",
      "3         2280             432\n",
      "4       109008           20964\n"
     ]
    }
   ],
   "source": [
    "#Subsetting by row & column number: use iloc[]\n",
    "\n",
    "#going back to the homelessness data.\n",
    "file=\"homelessness_no_index.csv\"\n",
    "data = pd.read_csv(file) \n",
    "data=pd.DataFrame(data)\n",
    "\n",
    "# Print the head of the data.\n",
    "print(data.head())\n",
    "print ()\n",
    "\n",
    "# Get 23rd row, 2nd column.\n",
    "print(\"Get 23rd row, 2nd column:\",data.iloc[22, 1])\n",
    "print ()\n",
    "\n",
    "# Use slicing to get the first 5 rows (for all the columns)\n",
    "print(data.iloc[:5, :])\n",
    "\n",
    "# Use slicing to get columns 3 to 4\n",
    "print(data.iloc[:, 2:4])\n",
    "\n",
    "# Use slicing in both directions at once\n",
    "print(data.iloc[:5, 2:4])"
   ]
  },
  {
   "cell_type": "markdown",
   "id": "3f0441c0",
   "metadata": {},
   "source": [
    "### - Visualizing Data & Reading Data into DataFrame"
   ]
  },
  {
   "cell_type": "code",
   "execution_count": 31,
   "id": "10f4e0d7",
   "metadata": {},
   "outputs": [
    {
     "name": "stdout",
     "output_type": "stream",
     "text": [
      "         date          type  year  avg_price   size     nb_sold\n",
      "0  2015-12-27  conventional  2015       0.95  small  9626901.09\n",
      "1  2015-12-20  conventional  2015       0.98  small  8710021.76\n",
      "2  2015-12-13  conventional  2015       0.93  small  9855053.66\n",
      "3  2015-12-06  conventional  2015       0.89  small  9405464.36\n",
      "4  2015-11-29  conventional  2015       0.99  small  8094803.56\n",
      "(1014, 6)\n",
      "['conventional' 'organic']\n",
      "['small' 'large' 'extra_large']\n"
     ]
    }
   ],
   "source": [
    "import pickle\n",
    "with open('avoplotto.pkl', 'rb') as f:\n",
    "    avo = pickle.load(f)\n",
    "\n",
    "# Print the head of the data.\n",
    "print(avo.head())\n",
    "print (avo.shape)\n",
    "print(avo[\"type\"].unique())\n",
    "print(avo[\"size\"].unique())"
   ]
  },
  {
   "cell_type": "code",
   "execution_count": 32,
   "id": "a0930536",
   "metadata": {},
   "outputs": [],
   "source": [
    "# Import matplotlib\n",
    "import matplotlib.pyplot as plt"
   ]
  },
  {
   "cell_type": "code",
   "execution_count": 33,
   "id": "75ee8d0d",
   "metadata": {},
   "outputs": [
    {
     "data": {
      "image/png": "[encoded data removed]",
      "text/plain": [
       "<Figure size 432x288 with 1 Axes>"
      ]
     },
     "metadata": {
      "needs_background": "light"
     },
     "output_type": "display_data"
    }
   ],
   "source": [
    "#Bar Plot: numerical calculations for a categorical variable (for each category type) \n",
    "\n",
    "# Get the total number of avocados sold of each size\n",
    "nb_sold_by_size = avo.groupby(\"size\")[\"nb_sold\"].sum()\n",
    "\n",
    "# Create a bar plot of the number of avocados sold by size\n",
    "nb_sold_by_size.plot(kind=\"bar\")\n",
    "\n",
    "# Show the plot\n",
    "plt.show()"
   ]
  },
  {
   "cell_type": "code",
   "execution_count": 34,
   "id": "ee9936e6",
   "metadata": {},
   "outputs": [
    {
     "data": {
      "image/png": "[encoded data removed]",
      "text/plain": [
       "<Figure size 432x288 with 1 Axes>"
      ]
     },
     "metadata": {
      "needs_background": "light"
     },
     "output_type": "display_data"
    }
   ],
   "source": [
    "#Scatter Plot: relationship between two numerical variables.\n",
    "\n",
    "# Scatter plot of avg_price vs. nb_sold.\n",
    "avo.plot(x=\"nb_sold\", y=\"avg_price\", kind=\"scatter\", title=\"Number of avocados sold vs. average price\")\n",
    "\n",
    "# Show the plot\n",
    "plt.show()"
   ]
  },
  {
   "cell_type": "code",
   "execution_count": 35,
   "id": "ba86e79a",
   "metadata": {},
   "outputs": [
    {
     "data": {
      "image/png": "[encoded data removed]",
      "text/plain": [
       "<Figure size 432x288 with 1 Axes>"
      ]
     },
     "metadata": {
      "needs_background": "light"
     },
     "output_type": "display_data"
    }
   ],
   "source": [
    "#Overalying Plots: good for group comparison?\n",
    "\n",
    "# Histogram of conventional avg_price \n",
    "avo[avo[\"type\"] == \"conventional\"][\"avg_price\"].hist(alpha=0.5, bins=20)\n",
    "\n",
    "# Histogram of organic avg_price\n",
    "avo[avo[\"type\"] == \"organic\"][\"avg_price\"].hist(alpha=0.5, bins=20)\n",
    "\n",
    "# Add a legend\n",
    "plt.legend([\"conventional\", \"organic\"])\n",
    "\n",
    "# Show the plot\n",
    "plt.show()"
   ]
  },
  {
   "cell_type": "code",
   "execution_count": 36,
   "id": "3baead7d",
   "metadata": {},
   "outputs": [
    {
     "name": "stdout",
     "output_type": "stream",
     "text": [
      "(1014, 6)\n",
      "(1014, 6)\n",
      "date         False\n",
      "type         False\n",
      "year         False\n",
      "avg_price    False\n",
      "size         False\n",
      "nb_sold      False\n",
      "dtype: bool\n"
     ]
    }
   ],
   "source": [
    "#missing values (N/A, NaN)\n",
    "\n",
    "print (avo.shape)\n",
    "\n",
    "# Remove rows with missing values\n",
    "avo_no_missing = avo.dropna()\n",
    "print (avo_no_missing.shape)\n",
    "\n",
    "# Check if any columns contain missing values\n",
    "print(avo_no_missing.isna().any())\n",
    "\n",
    "##How to deal with missing values?\n",
    "#drop them.\n",
    "#fill in with a certain number (e.g. average value from that column)\n",
    "#linear interpolation."
   ]
  },
  {
   "cell_type": "markdown",
   "id": "0751302c",
   "metadata": {},
   "source": [
    "## In-Class Activity"
   ]
  },
  {
   "cell_type": "code",
   "execution_count": 37,
   "id": "84f54000",
   "metadata": {},
   "outputs": [
    {
     "name": "stdout",
     "output_type": "stream",
     "text": [
      "   store type  department      date  weekly_sales  is_holiday  temperature_c  \\\n",
      "0      1    A           1  2/5/2010      24924.50       False       5.727778   \n",
      "1      1    A           1  3/5/2010      21827.90       False       8.055556   \n",
      "2      1    A           1  4/2/2010      57258.43       False      16.816667   \n",
      "3      1    A           1  5/7/2010      17413.94       False      22.527778   \n",
      "4      1    A           1  6/4/2010      17558.09       False      27.050000   \n",
      "\n",
      "   fuel_price_usd_per_l  unemployment  \n",
      "0              0.679451         8.106  \n",
      "1              0.693452         8.106  \n",
      "2              0.718284         7.808  \n",
      "3              0.748928         7.808  \n",
      "4              0.714586         7.808  \n",
      "(10774, 9)\n",
      "type  is_holiday\n",
      "A     False         2.336927e+08\n",
      "      True          2.360181e+04\n",
      "B     False         2.317678e+07\n",
      "      True          1.621410e+03\n",
      "Name: weekly_sales, dtype: float64\n"
     ]
    }
   ],
   "source": [
    "import pandas as pd \n",
    "\n",
    "#import the data.\n",
    "file=\"supermarket_no_index.csv\"\n",
    "market = pd.read_csv(file) \n",
    "market=pd.DataFrame(market)\n",
    "\n",
    "# print a few rows.\n",
    "print(market.head())\n",
    "#how many rows and cols?\n",
    "print(market.shape)\n",
    "# Import matplotlib.pyplot with alias plt\n",
    "import matplotlib.pyplot as plt\n",
    "\n",
    "# groupy by type and holiday_dummy and calculate the total number of sales.\n",
    "print(market.groupby(['type', 'is_holiday'])['weekly_sales'].sum())"
   ]
  },
  {
   "cell_type": "code",
   "execution_count": 38,
   "id": "651b0557",
   "metadata": {},
   "outputs": [
    {
     "name": "stdout",
     "output_type": "stream",
     "text": [
      "         date          type  year  avg_price   size     nb_sold\n",
      "0  2015-12-27  conventional  2015       0.95  small  9626901.09\n",
      "1  2015-12-20  conventional  2015       0.98  small  8710021.76\n",
      "2  2015-12-13  conventional  2015       0.93  small  9855053.66\n",
      "3  2015-12-06  conventional  2015       0.89  small  9405464.36\n",
      "4  2015-11-29  conventional  2015       0.99  small  8094803.56\n",
      "(1014, 6)\n",
      "date\n",
      "2015-01-04    27279606.03\n",
      "2015-01-11    25081927.33\n",
      "2015-01-18    24961540.48\n",
      "2015-01-25    24094678.66\n",
      "2015-02-01    39838734.08\n",
      "                 ...     \n",
      "2018-02-25    25434002.74\n",
      "2018-03-04    26834303.05\n",
      "2018-03-11    26094044.41\n",
      "2018-03-18    26030618.97\n",
      "2018-03-25    27480242.92\n",
      "Name: nb_sold, Length: 169, dtype: float64\n"
     ]
    },
    {
     "data": {
      "image/png": "[encoded data removed]",
      "text/plain": [
       "<Figure size 1440x720 with 1 Axes>"
      ]
     },
     "metadata": {
      "needs_background": "light"
     },
     "output_type": "display_data"
    }
   ],
   "source": [
    "#Line Plot: Change of numerical values over time (time trend analysis)\n",
    "\n",
    "import pickle\n",
    "with open('avoplotto.pkl', 'rb') as f:\n",
    "    avo = pickle.load(f)\n",
    "\n",
    "# Print the head of the data.\n",
    "print(avo.head())\n",
    "#How many rows and columns in the data?\n",
    "print(avo.shape)\n",
    "\n",
    "# Get the total number of avocados sold on each date\n",
    "gb = avo.groupby('date')['nb_sold'].sum()\n",
    "print(gb)\n",
    "# Create a line plot of the number of avocados sold by date\n",
    "gb.plot(x = 'date', y = 'nb_sold', title = 'Number of Avocados Sold By Date', kind = 'line', figsize = (20,10))\n",
    "# Show the plot\n",
    "plt.show()"
   ]
  }
 ],
 "metadata": {
  "kernelspec": {
   "display_name": "Python 3 (ipykernel)",
   "language": "python",
   "name": "python3"
  },
  "language_info": {
   "codemirror_mode": {
    "name": "ipython",
    "version": 3
   },
   "file_extension": ".py",
   "mimetype": "text/x-python",
   "name": "python",
   "nbconvert_exporter": "python",
   "pygments_lexer": "ipython3",
   "version": "3.8.2"
  }
 },
 "nbformat": 4,
 "nbformat_minor": 5
}
