{
 "cells": [
  {
   "cell_type": "markdown",
   "id": "1cf0ec3e",
   "metadata": {},
   "source": [
    "# Taohid Shadat - Assignment 2"
   ]
  },
  {
   "cell_type": "markdown",
   "id": "20c649e0",
   "metadata": {},
   "source": [
    "## Predicting Emotions of News Contents Using Sentiment Analysis (3 points)"
   ]
  },
  {
   "cell_type": "markdown",
   "id": "823772f4",
   "metadata": {},
   "source": [
    "- In this question, we will apply sentiment analysis on financial news headlines from a given data set.\n",
    "\n",
    "- By doing so, we can understand the emotion behind the headlines and predict whether the market is being positive or negative toward a stock."
   ]
  },
  {
   "cell_type": "code",
   "execution_count": 208,
   "id": "9480f09e",
   "metadata": {},
   "outputs": [],
   "source": [
    "###(1) Import the necessary library and load the news_data csv file.\n",
    "import pandas as pd\n",
    "import numpy as np\n",
    "from vaderSentiment.vaderSentiment import SentimentIntensityAnalyzer\n",
    "import matplotlib.pyplot as plt\n",
    "import seaborn as sns\n",
    "import datetime"
   ]
  },
  {
   "cell_type": "code",
   "execution_count": 209,
   "id": "d9b45875",
   "metadata": {},
   "outputs": [],
   "source": [
    "df = pd.read_csv('news_data.csv')"
   ]
  },
  {
   "cell_type": "code",
   "execution_count": 210,
   "id": "a41c75a5",
   "metadata": {},
   "outputs": [
    {
     "data": {
      "text/html": [
       "<div>\n",
       "<style scoped>\n",
       "    .dataframe tbody tr th:only-of-type {\n",
       "        vertical-align: middle;\n",
       "    }\n",
       "\n",
       "    .dataframe tbody tr th {\n",
       "        vertical-align: top;\n",
       "    }\n",
       "\n",
       "    .dataframe thead th {\n",
       "        text-align: right;\n",
       "    }\n",
       "</style>\n",
       "<table border=\"1\" class=\"dataframe\">\n",
       "  <thead>\n",
       "    <tr style=\"text-align: right;\">\n",
       "      <th></th>\n",
       "      <th>ticker</th>\n",
       "      <th>date</th>\n",
       "      <th>time</th>\n",
       "      <th>headline</th>\n",
       "    </tr>\n",
       "  </thead>\n",
       "  <tbody>\n",
       "    <tr>\n",
       "      <th>0</th>\n",
       "      <td>fb</td>\n",
       "      <td>Jan-04-19</td>\n",
       "      <td>06:22PM</td>\n",
       "      <td>Facebook, Apple, Netflix, Amazon and Alphabet ...</td>\n",
       "    </tr>\n",
       "    <tr>\n",
       "      <th>1</th>\n",
       "      <td>fb</td>\n",
       "      <td>Jan-04-19</td>\n",
       "      <td>05:15PM</td>\n",
       "      <td>Earnings Reports for the Week of Jan. 7-11 (BB...</td>\n",
       "    </tr>\n",
       "    <tr>\n",
       "      <th>2</th>\n",
       "      <td>fb</td>\n",
       "      <td>Jan-04-19</td>\n",
       "      <td>04:55PM</td>\n",
       "      <td>COLUMN-Commentary: 2019 will be the year of mo...</td>\n",
       "    </tr>\n",
       "    <tr>\n",
       "      <th>3</th>\n",
       "      <td>fb</td>\n",
       "      <td>Jan-04-19</td>\n",
       "      <td>04:53PM</td>\n",
       "      <td>3 Tech Trends to Watch in 2019</td>\n",
       "    </tr>\n",
       "    <tr>\n",
       "      <th>4</th>\n",
       "      <td>fb</td>\n",
       "      <td>Jan-04-19</td>\n",
       "      <td>04:30PM</td>\n",
       "      <td>Will Denver's tech growth continue in 2019?</td>\n",
       "    </tr>\n",
       "  </tbody>\n",
       "</table>\n",
       "</div>"
      ],
      "text/plain": [
       "  ticker       date     time  \\\n",
       "0     fb  Jan-04-19  06:22PM   \n",
       "1     fb  Jan-04-19  05:15PM   \n",
       "2     fb  Jan-04-19  04:55PM   \n",
       "3     fb  Jan-04-19  04:53PM   \n",
       "4     fb  Jan-04-19  04:30PM   \n",
       "\n",
       "                                            headline  \n",
       "0  Facebook, Apple, Netflix, Amazon and Alphabet ...  \n",
       "1  Earnings Reports for the Week of Jan. 7-11 (BB...  \n",
       "2  COLUMN-Commentary: 2019 will be the year of mo...  \n",
       "3                     3 Tech Trends to Watch in 2019  \n",
       "4        Will Denver's tech growth continue in 2019?  "
      ]
     },
     "execution_count": 210,
     "metadata": {},
     "output_type": "execute_result"
    }
   ],
   "source": [
    "df.head()"
   ]
  },
  {
   "cell_type": "code",
   "execution_count": 211,
   "id": "852065e3",
   "metadata": {},
   "outputs": [],
   "source": [
    "###(2) Use VADER Sentiment Analyer and derive pos/neu/neg/compound sentiment scores for every news headlines.\n",
    "###(3) Merge the sentiment outputs to the existing data set. \n",
    "### As a result, you will have 500rows & 8 cloumns in your data set such as ticker, date, time, headline, pos,neu,neg,compound."
   ]
  },
  {
   "cell_type": "code",
   "execution_count": 212,
   "id": "a99edc01",
   "metadata": {},
   "outputs": [],
   "source": [
    "def sentiment_scores(sentence):\n",
    "    # Create a SentimentIntensityAnalyzer object.\n",
    "    sid_obj = SentimentIntensityAnalyzer()\n",
    " \n",
    "    # polarity_scores method of SentimentIntensityAnalyzer\n",
    "    # object gives a sentiment dictionary.\n",
    "    # which contains pos, neg, neu, and compound scores.\n",
    "    sentiment_dict = sid_obj.polarity_scores(sentence)\n",
    "    return sentiment_dict['neg'], sentiment_dict['neu'], sentiment_dict['pos'], sentiment_dict['compound']"
   ]
  },
  {
   "cell_type": "code",
   "execution_count": 213,
   "id": "9770e46f",
   "metadata": {},
   "outputs": [],
   "source": [
    "df['sentiment_scores']= df['headline'].apply(sentiment_scores)\n",
    "new_cols = ['neg', 'neu', 'pos', 'compound']\n",
    "for i, col in enumerate(new_cols):\n",
    "    df[col] = df['sentiment_scores'].apply(lambda x: x[i])"
   ]
  },
  {
   "cell_type": "code",
   "execution_count": 214,
   "id": "8dfa6074",
   "metadata": {},
   "outputs": [
    {
     "data": {
      "text/html": [
       "<div>\n",
       "<style scoped>\n",
       "    .dataframe tbody tr th:only-of-type {\n",
       "        vertical-align: middle;\n",
       "    }\n",
       "\n",
       "    .dataframe tbody tr th {\n",
       "        vertical-align: top;\n",
       "    }\n",
       "\n",
       "    .dataframe thead th {\n",
       "        text-align: right;\n",
       "    }\n",
       "</style>\n",
       "<table border=\"1\" class=\"dataframe\">\n",
       "  <thead>\n",
       "    <tr style=\"text-align: right;\">\n",
       "      <th></th>\n",
       "      <th>ticker</th>\n",
       "      <th>date</th>\n",
       "      <th>time</th>\n",
       "      <th>headline</th>\n",
       "      <th>sentiment_scores</th>\n",
       "      <th>neg</th>\n",
       "      <th>neu</th>\n",
       "      <th>pos</th>\n",
       "      <th>compound</th>\n",
       "    </tr>\n",
       "  </thead>\n",
       "  <tbody>\n",
       "    <tr>\n",
       "      <th>0</th>\n",
       "      <td>fb</td>\n",
       "      <td>Jan-04-19</td>\n",
       "      <td>06:22PM</td>\n",
       "      <td>Facebook, Apple, Netflix, Amazon and Alphabet ...</td>\n",
       "      <td>(0.0, 0.631, 0.369, 0.4767)</td>\n",
       "      <td>0.0</td>\n",
       "      <td>0.631</td>\n",
       "      <td>0.369</td>\n",
       "      <td>0.4767</td>\n",
       "    </tr>\n",
       "    <tr>\n",
       "      <th>1</th>\n",
       "      <td>fb</td>\n",
       "      <td>Jan-04-19</td>\n",
       "      <td>05:15PM</td>\n",
       "      <td>Earnings Reports for the Week of Jan. 7-11 (BB...</td>\n",
       "      <td>(0.0, 1.0, 0.0, 0.0)</td>\n",
       "      <td>0.0</td>\n",
       "      <td>1.000</td>\n",
       "      <td>0.000</td>\n",
       "      <td>0.0000</td>\n",
       "    </tr>\n",
       "    <tr>\n",
       "      <th>2</th>\n",
       "      <td>fb</td>\n",
       "      <td>Jan-04-19</td>\n",
       "      <td>04:55PM</td>\n",
       "      <td>COLUMN-Commentary: 2019 will be the year of mo...</td>\n",
       "      <td>(0.0, 1.0, 0.0, 0.0)</td>\n",
       "      <td>0.0</td>\n",
       "      <td>1.000</td>\n",
       "      <td>0.000</td>\n",
       "      <td>0.0000</td>\n",
       "    </tr>\n",
       "    <tr>\n",
       "      <th>3</th>\n",
       "      <td>fb</td>\n",
       "      <td>Jan-04-19</td>\n",
       "      <td>04:53PM</td>\n",
       "      <td>3 Tech Trends to Watch in 2019</td>\n",
       "      <td>(0.0, 1.0, 0.0, 0.0)</td>\n",
       "      <td>0.0</td>\n",
       "      <td>1.000</td>\n",
       "      <td>0.000</td>\n",
       "      <td>0.0000</td>\n",
       "    </tr>\n",
       "    <tr>\n",
       "      <th>4</th>\n",
       "      <td>fb</td>\n",
       "      <td>Jan-04-19</td>\n",
       "      <td>04:30PM</td>\n",
       "      <td>Will Denver's tech growth continue in 2019?</td>\n",
       "      <td>(0.0, 0.698, 0.302, 0.3818)</td>\n",
       "      <td>0.0</td>\n",
       "      <td>0.698</td>\n",
       "      <td>0.302</td>\n",
       "      <td>0.3818</td>\n",
       "    </tr>\n",
       "  </tbody>\n",
       "</table>\n",
       "</div>"
      ],
      "text/plain": [
       "  ticker       date     time  \\\n",
       "0     fb  Jan-04-19  06:22PM   \n",
       "1     fb  Jan-04-19  05:15PM   \n",
       "2     fb  Jan-04-19  04:55PM   \n",
       "3     fb  Jan-04-19  04:53PM   \n",
       "4     fb  Jan-04-19  04:30PM   \n",
       "\n",
       "                                            headline  \\\n",
       "0  Facebook, Apple, Netflix, Amazon and Alphabet ...   \n",
       "1  Earnings Reports for the Week of Jan. 7-11 (BB...   \n",
       "2  COLUMN-Commentary: 2019 will be the year of mo...   \n",
       "3                     3 Tech Trends to Watch in 2019   \n",
       "4        Will Denver's tech growth continue in 2019?   \n",
       "\n",
       "              sentiment_scores  neg    neu    pos  compound  \n",
       "0  (0.0, 0.631, 0.369, 0.4767)  0.0  0.631  0.369    0.4767  \n",
       "1         (0.0, 1.0, 0.0, 0.0)  0.0  1.000  0.000    0.0000  \n",
       "2         (0.0, 1.0, 0.0, 0.0)  0.0  1.000  0.000    0.0000  \n",
       "3         (0.0, 1.0, 0.0, 0.0)  0.0  1.000  0.000    0.0000  \n",
       "4  (0.0, 0.698, 0.302, 0.3818)  0.0  0.698  0.302    0.3818  "
      ]
     },
     "execution_count": 214,
     "metadata": {},
     "output_type": "execute_result"
    }
   ],
   "source": [
    "df.head()"
   ]
  },
  {
   "cell_type": "code",
   "execution_count": 215,
   "id": "0ca7c205",
   "metadata": {},
   "outputs": [
    {
     "data": {
      "text/plain": [
       "ticker               object\n",
       "date                 object\n",
       "time                 object\n",
       "headline             object\n",
       "sentiment_scores     object\n",
       "neg                 float64\n",
       "neu                 float64\n",
       "pos                 float64\n",
       "compound            float64\n",
       "dtype: object"
      ]
     },
     "execution_count": 215,
     "metadata": {},
     "output_type": "execute_result"
    }
   ],
   "source": [
    "df.dtypes"
   ]
  },
  {
   "cell_type": "code",
   "execution_count": 216,
   "id": "67362c53",
   "metadata": {},
   "outputs": [],
   "source": [
    "df['datetime'] = pd.to_datetime(df['date'] + ' ' + df['time'])"
   ]
  },
  {
   "cell_type": "code",
   "execution_count": 217,
   "id": "8ee8bffb",
   "metadata": {},
   "outputs": [],
   "source": [
    "df['date'] = df['datetime'].dt.date"
   ]
  },
  {
   "cell_type": "code",
   "execution_count": 218,
   "id": "37ea77ad",
   "metadata": {},
   "outputs": [],
   "source": [
    "df = df.sort_values(by = 'datetime')"
   ]
  },
  {
   "cell_type": "code",
   "execution_count": 219,
   "id": "e1f2593e",
   "metadata": {},
   "outputs": [
    {
     "data": {
      "text/html": [
       "<div>\n",
       "<style scoped>\n",
       "    .dataframe tbody tr th:only-of-type {\n",
       "        vertical-align: middle;\n",
       "    }\n",
       "\n",
       "    .dataframe tbody tr th {\n",
       "        vertical-align: top;\n",
       "    }\n",
       "\n",
       "    .dataframe thead th {\n",
       "        text-align: right;\n",
       "    }\n",
       "</style>\n",
       "<table border=\"1\" class=\"dataframe\">\n",
       "  <thead>\n",
       "    <tr style=\"text-align: right;\">\n",
       "      <th></th>\n",
       "      <th>ticker</th>\n",
       "      <th>date</th>\n",
       "      <th>time</th>\n",
       "      <th>headline</th>\n",
       "      <th>sentiment_scores</th>\n",
       "      <th>neg</th>\n",
       "      <th>neu</th>\n",
       "      <th>pos</th>\n",
       "      <th>compound</th>\n",
       "      <th>datetime</th>\n",
       "    </tr>\n",
       "  </thead>\n",
       "  <tbody>\n",
       "    <tr>\n",
       "      <th>199</th>\n",
       "      <td>fb</td>\n",
       "      <td>2018-09-18</td>\n",
       "      <td>12:50PM</td>\n",
       "      <td>Facebook Is Facing a Legal Battle with ACLU &amp; CWA</td>\n",
       "      <td>(0.215, 0.661, 0.124, -0.2732)</td>\n",
       "      <td>0.215</td>\n",
       "      <td>0.661</td>\n",
       "      <td>0.124</td>\n",
       "      <td>-0.2732</td>\n",
       "      <td>2018-09-18 12:50:00</td>\n",
       "    </tr>\n",
       "    <tr>\n",
       "      <th>198</th>\n",
       "      <td>fb</td>\n",
       "      <td>2018-09-18</td>\n",
       "      <td>01:00PM</td>\n",
       "      <td>CLASS ACTION UPDATE for TSLA, RMTI and FB: Lev...</td>\n",
       "      <td>(0.0, 1.0, 0.0, 0.0)</td>\n",
       "      <td>0.000</td>\n",
       "      <td>1.000</td>\n",
       "      <td>0.000</td>\n",
       "      <td>0.0000</td>\n",
       "      <td>2018-09-18 13:00:00</td>\n",
       "    </tr>\n",
       "    <tr>\n",
       "      <th>197</th>\n",
       "      <td>fb</td>\n",
       "      <td>2018-09-18</td>\n",
       "      <td>01:24PM</td>\n",
       "      <td>Facebook Can't Settle an Ad Bias Claim, Draws ...</td>\n",
       "      <td>(0.31, 0.69, 0.0, -0.3818)</td>\n",
       "      <td>0.310</td>\n",
       "      <td>0.690</td>\n",
       "      <td>0.000</td>\n",
       "      <td>-0.3818</td>\n",
       "      <td>2018-09-18 13:24:00</td>\n",
       "    </tr>\n",
       "    <tr>\n",
       "      <th>196</th>\n",
       "      <td>fb</td>\n",
       "      <td>2018-09-18</td>\n",
       "      <td>01:24PM</td>\n",
       "      <td>Facebook Can't Settle One Ad Bias Claim, Gets ...</td>\n",
       "      <td>(0.123, 0.877, 0.0, -0.1027)</td>\n",
       "      <td>0.123</td>\n",
       "      <td>0.877</td>\n",
       "      <td>0.000</td>\n",
       "      <td>-0.1027</td>\n",
       "      <td>2018-09-18 13:24:00</td>\n",
       "    </tr>\n",
       "    <tr>\n",
       "      <th>195</th>\n",
       "      <td>fb</td>\n",
       "      <td>2018-09-18</td>\n",
       "      <td>01:40PM</td>\n",
       "      <td>The Tesla of China &amp; the Facebook-Macy's Conne...</td>\n",
       "      <td>(0.0, 0.752, 0.248, 0.5106)</td>\n",
       "      <td>0.000</td>\n",
       "      <td>0.752</td>\n",
       "      <td>0.248</td>\n",
       "      <td>0.5106</td>\n",
       "      <td>2018-09-18 13:40:00</td>\n",
       "    </tr>\n",
       "  </tbody>\n",
       "</table>\n",
       "</div>"
      ],
      "text/plain": [
       "    ticker        date     time  \\\n",
       "199     fb  2018-09-18  12:50PM   \n",
       "198     fb  2018-09-18  01:00PM   \n",
       "197     fb  2018-09-18  01:24PM   \n",
       "196     fb  2018-09-18  01:24PM   \n",
       "195     fb  2018-09-18  01:40PM   \n",
       "\n",
       "                                              headline  \\\n",
       "199  Facebook Is Facing a Legal Battle with ACLU & CWA   \n",
       "198  CLASS ACTION UPDATE for TSLA, RMTI and FB: Lev...   \n",
       "197  Facebook Can't Settle an Ad Bias Claim, Draws ...   \n",
       "196  Facebook Can't Settle One Ad Bias Claim, Gets ...   \n",
       "195  The Tesla of China & the Facebook-Macy's Conne...   \n",
       "\n",
       "                   sentiment_scores    neg    neu    pos  compound  \\\n",
       "199  (0.215, 0.661, 0.124, -0.2732)  0.215  0.661  0.124   -0.2732   \n",
       "198            (0.0, 1.0, 0.0, 0.0)  0.000  1.000  0.000    0.0000   \n",
       "197      (0.31, 0.69, 0.0, -0.3818)  0.310  0.690  0.000   -0.3818   \n",
       "196    (0.123, 0.877, 0.0, -0.1027)  0.123  0.877  0.000   -0.1027   \n",
       "195     (0.0, 0.752, 0.248, 0.5106)  0.000  0.752  0.248    0.5106   \n",
       "\n",
       "               datetime  \n",
       "199 2018-09-18 12:50:00  \n",
       "198 2018-09-18 13:00:00  \n",
       "197 2018-09-18 13:24:00  \n",
       "196 2018-09-18 13:24:00  \n",
       "195 2018-09-18 13:40:00  "
      ]
     },
     "execution_count": 219,
     "metadata": {},
     "output_type": "execute_result"
    }
   ],
   "source": [
    "df.head()"
   ]
  },
  {
   "cell_type": "code",
   "execution_count": 220,
   "id": "03d8e4a7",
   "metadata": {},
   "outputs": [],
   "source": [
    "### (4) Visualize your outputs for one single day for one particular stock.\n",
    "### Pick one of the tickers, say fb, and a certain date, say 2019 Jan 03, and \n",
    "### plot how the news sentiment (pos,neu,neg this time) changes over time within that day.\n",
    "### you can generate separate plots for each sentiment category and overlay the plots all together at once.\n",
    "### Although there's no one exact way to do this, such plot may work, refer plot 2 (it's called \"stacked\" bar chart)."
   ]
  },
  {
   "cell_type": "code",
   "execution_count": 221,
   "id": "6cade843",
   "metadata": {},
   "outputs": [
    {
     "data": {
      "image/png": "[encoded data removed]",
      "text/plain": [
       "<Figure size 1080x432 with 1 Axes>"
      ]
     },
     "metadata": {
      "needs_background": "light"
     },
     "output_type": "display_data"
    }
   ],
   "source": [
    "#One way to create a sub-data set for (4):\n",
    "#take out fb ticker only, keep the rows where date is Jan 03 2019.\n",
    "#Sort the rows by time and based on the final version, generate a plot.\n",
    "plt.figure(figsize=(15, 6))\n",
    "sns.lineplot(data = df[(df['date'] == datetime.date(2019, 1, 4)) & (df['ticker'] == 'fb')], x = 'datetime', y = 'compound')\n",
    "plt.ylabel('Compound Score')\n",
    "plt.title('Facebook Intra-Day Sentiment on Jan 4th 2019')\n",
    "plt.xticks(rotation = 45)\n",
    "plt.show()"
   ]
  },
  {
   "cell_type": "code",
   "execution_count": 222,
   "id": "e9109b8e",
   "metadata": {},
   "outputs": [],
   "source": [
    "### (5) Visualize your outputs to see how the news sentiment of each ticker changes over time.  \n",
    "### Generate time trend plot for the average of compound scores for both tickers at a daily-level. \n",
    "### X axis should be date from the oldest to the newest & Y axis should be the average of compound scores."
   ]
  },
  {
   "cell_type": "code",
   "execution_count": 223,
   "id": "0e51a94f",
   "metadata": {},
   "outputs": [
    {
     "data": {
      "text/html": [
       "<div>\n",
       "<style scoped>\n",
       "    .dataframe tbody tr th:only-of-type {\n",
       "        vertical-align: middle;\n",
       "    }\n",
       "\n",
       "    .dataframe tbody tr th {\n",
       "        vertical-align: top;\n",
       "    }\n",
       "\n",
       "    .dataframe thead th {\n",
       "        text-align: right;\n",
       "    }\n",
       "</style>\n",
       "<table border=\"1\" class=\"dataframe\">\n",
       "  <thead>\n",
       "    <tr style=\"text-align: right;\">\n",
       "      <th></th>\n",
       "      <th>ticker</th>\n",
       "      <th>date</th>\n",
       "      <th>compound</th>\n",
       "    </tr>\n",
       "  </thead>\n",
       "  <tbody>\n",
       "    <tr>\n",
       "      <th>0</th>\n",
       "      <td>fb</td>\n",
       "      <td>2018-09-18</td>\n",
       "      <td>-0.052564</td>\n",
       "    </tr>\n",
       "    <tr>\n",
       "      <th>13</th>\n",
       "      <td>tsla</td>\n",
       "      <td>2018-09-18</td>\n",
       "      <td>-0.104150</td>\n",
       "    </tr>\n",
       "    <tr>\n",
       "      <th>14</th>\n",
       "      <td>tsla</td>\n",
       "      <td>2018-09-19</td>\n",
       "      <td>-0.041239</td>\n",
       "    </tr>\n",
       "    <tr>\n",
       "      <th>1</th>\n",
       "      <td>fb</td>\n",
       "      <td>2018-09-19</td>\n",
       "      <td>0.057568</td>\n",
       "    </tr>\n",
       "    <tr>\n",
       "      <th>2</th>\n",
       "      <td>fb</td>\n",
       "      <td>2018-09-20</td>\n",
       "      <td>-0.008307</td>\n",
       "    </tr>\n",
       "  </tbody>\n",
       "</table>\n",
       "</div>"
      ],
      "text/plain": [
       "   ticker        date  compound\n",
       "0      fb  2018-09-18 -0.052564\n",
       "13   tsla  2018-09-18 -0.104150\n",
       "14   tsla  2018-09-19 -0.041239\n",
       "1      fb  2018-09-19  0.057568\n",
       "2      fb  2018-09-20 -0.008307"
      ]
     },
     "execution_count": 223,
     "metadata": {},
     "output_type": "execute_result"
    }
   ],
   "source": [
    "df3 = df.groupby(['ticker', 'date'])['compound'].mean().to_frame().reset_index().sort_values(by = 'date')\n",
    "df3.head()"
   ]
  },
  {
   "cell_type": "code",
   "execution_count": 224,
   "id": "d40b045a",
   "metadata": {},
   "outputs": [
    {
     "data": {
      "image/png": "[encoded data removed]",
      "text/plain": [
       "<Figure size 1080x432 with 1 Axes>"
      ]
     },
     "metadata": {
      "needs_background": "light"
     },
     "output_type": "display_data"
    }
   ],
   "source": [
    "plt.figure(figsize=(15, 6))\n",
    "sns.lineplot(data = df3, x = 'date', y = 'compound', hue = 'ticker')\n",
    "plt.ylabel('Sentiment Score')\n",
    "plt.title('FB and Tesla Average Sentiment Over Time')\n",
    "plt.xticks(rotation = 45)\n",
    "plt.show()"
   ]
  }
 ],
 "metadata": {
  "kernelspec": {
   "display_name": "Python 3 (ipykernel)",
   "language": "python",
   "name": "python3"
  },
  "language_info": {
   "codemirror_mode": {
    "name": "ipython",
    "version": 3
   },
   "file_extension": ".py",
   "mimetype": "text/x-python",
   "name": "python",
   "nbconvert_exporter": "python",
   "pygments_lexer": "ipython3",
   "version": "3.8.2"
  }
 },
 "nbformat": 4,
 "nbformat_minor": 5
}
