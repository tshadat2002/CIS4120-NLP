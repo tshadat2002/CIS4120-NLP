{
 "cells": [
  {
   "cell_type": "markdown",
   "id": "737f4b83",
   "metadata": {},
   "source": [
    "## Assignment 1: Recommending Similar Movies (5 points)"
   ]
  },
  {
   "cell_type": "markdown",
   "id": "aafa6e03",
   "metadata": {},
   "source": [
    "- In this assignment, you will quantify the similarities between movies using plot summaries from Wikipedia and IMDb. For this, we will calculate Cosine similarity for all pairs of movies using movies data set. The data set includes 100 movies with their titles, genre, plot summaries from Wikipedia and IMDb."
   ]
  },
  {
   "cell_type": "markdown",
   "id": "a9e4df5c",
   "metadata": {},
   "source": [
    "- Instructions on what to do are provided in every code block with numbers.\n",
    "\n",
    "\n",
    "\n"
   ]
  },
  {
   "cell_type": "markdown",
   "id": "856dbbcc",
   "metadata": {},
   "source": [
    "- Do not clear the outputs, you must print out your outputs.\n",
    "\n"
   ]
  },
  {
   "cell_type": "markdown",
   "id": "cef2aecf",
   "metadata": {},
   "source": [
    "- Write your (legal) full name here: Taohid Shadat"
   ]
  },
  {
   "cell_type": "markdown",
   "id": "cecdc4cb",
   "metadata": {},
   "source": [
    "## 1. Import Data Set"
   ]
  },
  {
   "cell_type": "code",
   "execution_count": 1,
   "id": "466df4e6",
   "metadata": {},
   "outputs": [
    {
     "name": "stdout",
     "output_type": "stream",
     "text": [
      "(100, 5)\n",
      "Index(['rank', 'title', 'genre', 'wiki_plot', 'imdb_plot'], dtype='object')\n"
     ]
    },
    {
     "data": {
      "text/html": [
       "<div>\n",
       "<style scoped>\n",
       "    .dataframe tbody tr th:only-of-type {\n",
       "        vertical-align: middle;\n",
       "    }\n",
       "\n",
       "    .dataframe tbody tr th {\n",
       "        vertical-align: top;\n",
       "    }\n",
       "\n",
       "    .dataframe thead th {\n",
       "        text-align: right;\n",
       "    }\n",
       "</style>\n",
       "<table border=\"1\" class=\"dataframe\">\n",
       "  <thead>\n",
       "    <tr style=\"text-align: right;\">\n",
       "      <th></th>\n",
       "      <th>rank</th>\n",
       "      <th>title</th>\n",
       "      <th>genre</th>\n",
       "      <th>wiki_plot</th>\n",
       "      <th>imdb_plot</th>\n",
       "    </tr>\n",
       "  </thead>\n",
       "  <tbody>\n",
       "    <tr>\n",
       "      <th>0</th>\n",
       "      <td>0</td>\n",
       "      <td>The Godfather</td>\n",
       "      <td>[u' Crime', u' Drama']</td>\n",
       "      <td>On the day of his only daughter's wedding, Vit...</td>\n",
       "      <td>In late summer 1945, guests are gathered for t...</td>\n",
       "    </tr>\n",
       "    <tr>\n",
       "      <th>1</th>\n",
       "      <td>1</td>\n",
       "      <td>The Shawshank Redemption</td>\n",
       "      <td>[u' Crime', u' Drama']</td>\n",
       "      <td>In 1947, banker Andy Dufresne is convicted of ...</td>\n",
       "      <td>In 1947, Andy Dufresne (Tim Robbins), a banker...</td>\n",
       "    </tr>\n",
       "    <tr>\n",
       "      <th>2</th>\n",
       "      <td>2</td>\n",
       "      <td>Schindler's List</td>\n",
       "      <td>[u' Biography', u' Drama', u' History']</td>\n",
       "      <td>In 1939, the Germans move Polish Jews into the...</td>\n",
       "      <td>The relocation of Polish Jews from surrounding...</td>\n",
       "    </tr>\n",
       "    <tr>\n",
       "      <th>3</th>\n",
       "      <td>3</td>\n",
       "      <td>Raging Bull</td>\n",
       "      <td>[u' Biography', u' Drama', u' Sport']</td>\n",
       "      <td>In a brief scene in 1964, an aging, overweight...</td>\n",
       "      <td>The film opens in 1964, where an older and fat...</td>\n",
       "    </tr>\n",
       "    <tr>\n",
       "      <th>4</th>\n",
       "      <td>4</td>\n",
       "      <td>Casablanca</td>\n",
       "      <td>[u' Drama', u' Romance', u' War']</td>\n",
       "      <td>It is early December 1941. American expatriate...</td>\n",
       "      <td>In the early years of World War II, December 1...</td>\n",
       "    </tr>\n",
       "  </tbody>\n",
       "</table>\n",
       "</div>"
      ],
      "text/plain": [
       "   rank                     title                                    genre  \\\n",
       "0     0             The Godfather                   [u' Crime', u' Drama']   \n",
       "1     1  The Shawshank Redemption                   [u' Crime', u' Drama']   \n",
       "2     2          Schindler's List  [u' Biography', u' Drama', u' History']   \n",
       "3     3               Raging Bull    [u' Biography', u' Drama', u' Sport']   \n",
       "4     4                Casablanca        [u' Drama', u' Romance', u' War']   \n",
       "\n",
       "                                           wiki_plot  \\\n",
       "0  On the day of his only daughter's wedding, Vit...   \n",
       "1  In 1947, banker Andy Dufresne is convicted of ...   \n",
       "2  In 1939, the Germans move Polish Jews into the...   \n",
       "3  In a brief scene in 1964, an aging, overweight...   \n",
       "4  It is early December 1941. American expatriate...   \n",
       "\n",
       "                                           imdb_plot  \n",
       "0  In late summer 1945, guests are gathered for t...  \n",
       "1  In 1947, Andy Dufresne (Tim Robbins), a banker...  \n",
       "2  The relocation of Polish Jews from surrounding...  \n",
       "3  The film opens in 1964, where an older and fat...  \n",
       "4  In the early years of World War II, December 1...  "
      ]
     },
     "execution_count": 1,
     "metadata": {},
     "output_type": "execute_result"
    }
   ],
   "source": [
    "import numpy as np\n",
    "import pandas as pd\n",
    "import nltk\n",
    "\n",
    "#(0.5 points)\n",
    "\n",
    "# (1) The data set comes in as a csv file. Import the data file (it is uploaded on Black Board folder).\n",
    "df = pd.read_csv('movies.csv')\n",
    "# (2) check the number of rows and columns, column names, and print out a few rows to see how the data looks like. \n",
    "print(df.shape)\n",
    "print(df.columns)\n",
    "df.head()"
   ]
  },
  {
   "cell_type": "markdown",
   "id": "db749c39",
   "metadata": {},
   "source": [
    "## 2. Combine (concatenate) Wikipedia and IMDb plot summaries"
   ]
  },
  {
   "cell_type": "code",
   "execution_count": 2,
   "id": "8ed314a1",
   "metadata": {},
   "outputs": [],
   "source": [
    "# (3) Combine wiki_plot and imdb_plot into a single column. (0.5 points)\n",
    "df['comb_plot'] = df['wiki_plot']  + df['imdb_plot']\n",
    "# (4) make sure concatenation worked properly. Among many ways to check this, one thing you can do simply is to\n",
    "# check the length of wiki_plot, imdb_plot and compare the length of the combined plot.\n",
    "# The length of the combined plot should be sum of the length of wiki_plot and imdb_plot.\n",
    "# (0.5 points)"
   ]
  },
  {
   "cell_type": "code",
   "execution_count": 3,
   "id": "f1753beb",
   "metadata": {},
   "outputs": [
    {
     "data": {
      "text/plain": [
       "True"
      ]
     },
     "execution_count": 3,
     "metadata": {},
     "output_type": "execute_result"
    }
   ],
   "source": [
    "len(df.iloc[0]['comb_plot']) == (len(df.iloc[0]['wiki_plot']) + len(df.iloc[0]['imdb_plot']))"
   ]
  },
  {
   "cell_type": "code",
   "execution_count": 4,
   "id": "61ff0dfc",
   "metadata": {},
   "outputs": [
    {
     "data": {
      "text/html": [
       "<div>\n",
       "<style scoped>\n",
       "    .dataframe tbody tr th:only-of-type {\n",
       "        vertical-align: middle;\n",
       "    }\n",
       "\n",
       "    .dataframe tbody tr th {\n",
       "        vertical-align: top;\n",
       "    }\n",
       "\n",
       "    .dataframe thead th {\n",
       "        text-align: right;\n",
       "    }\n",
       "</style>\n",
       "<table border=\"1\" class=\"dataframe\">\n",
       "  <thead>\n",
       "    <tr style=\"text-align: right;\">\n",
       "      <th></th>\n",
       "      <th>rank</th>\n",
       "      <th>title</th>\n",
       "      <th>genre</th>\n",
       "      <th>wiki_plot</th>\n",
       "      <th>imdb_plot</th>\n",
       "      <th>comb_plot</th>\n",
       "    </tr>\n",
       "  </thead>\n",
       "  <tbody>\n",
       "    <tr>\n",
       "      <th>0</th>\n",
       "      <td>0</td>\n",
       "      <td>The Godfather</td>\n",
       "      <td>[u' Crime', u' Drama']</td>\n",
       "      <td>On the day of his only daughter's wedding, Vit...</td>\n",
       "      <td>In late summer 1945, guests are gathered for t...</td>\n",
       "      <td>On the day of his only daughter's wedding, Vit...</td>\n",
       "    </tr>\n",
       "    <tr>\n",
       "      <th>1</th>\n",
       "      <td>1</td>\n",
       "      <td>The Shawshank Redemption</td>\n",
       "      <td>[u' Crime', u' Drama']</td>\n",
       "      <td>In 1947, banker Andy Dufresne is convicted of ...</td>\n",
       "      <td>In 1947, Andy Dufresne (Tim Robbins), a banker...</td>\n",
       "      <td>In 1947, banker Andy Dufresne is convicted of ...</td>\n",
       "    </tr>\n",
       "    <tr>\n",
       "      <th>2</th>\n",
       "      <td>2</td>\n",
       "      <td>Schindler's List</td>\n",
       "      <td>[u' Biography', u' Drama', u' History']</td>\n",
       "      <td>In 1939, the Germans move Polish Jews into the...</td>\n",
       "      <td>The relocation of Polish Jews from surrounding...</td>\n",
       "      <td>In 1939, the Germans move Polish Jews into the...</td>\n",
       "    </tr>\n",
       "    <tr>\n",
       "      <th>3</th>\n",
       "      <td>3</td>\n",
       "      <td>Raging Bull</td>\n",
       "      <td>[u' Biography', u' Drama', u' Sport']</td>\n",
       "      <td>In a brief scene in 1964, an aging, overweight...</td>\n",
       "      <td>The film opens in 1964, where an older and fat...</td>\n",
       "      <td>In a brief scene in 1964, an aging, overweight...</td>\n",
       "    </tr>\n",
       "    <tr>\n",
       "      <th>4</th>\n",
       "      <td>4</td>\n",
       "      <td>Casablanca</td>\n",
       "      <td>[u' Drama', u' Romance', u' War']</td>\n",
       "      <td>It is early December 1941. American expatriate...</td>\n",
       "      <td>In the early years of World War II, December 1...</td>\n",
       "      <td>It is early December 1941. American expatriate...</td>\n",
       "    </tr>\n",
       "  </tbody>\n",
       "</table>\n",
       "</div>"
      ],
      "text/plain": [
       "   rank                     title                                    genre  \\\n",
       "0     0             The Godfather                   [u' Crime', u' Drama']   \n",
       "1     1  The Shawshank Redemption                   [u' Crime', u' Drama']   \n",
       "2     2          Schindler's List  [u' Biography', u' Drama', u' History']   \n",
       "3     3               Raging Bull    [u' Biography', u' Drama', u' Sport']   \n",
       "4     4                Casablanca        [u' Drama', u' Romance', u' War']   \n",
       "\n",
       "                                           wiki_plot  \\\n",
       "0  On the day of his only daughter's wedding, Vit...   \n",
       "1  In 1947, banker Andy Dufresne is convicted of ...   \n",
       "2  In 1939, the Germans move Polish Jews into the...   \n",
       "3  In a brief scene in 1964, an aging, overweight...   \n",
       "4  It is early December 1941. American expatriate...   \n",
       "\n",
       "                                           imdb_plot  \\\n",
       "0  In late summer 1945, guests are gathered for t...   \n",
       "1  In 1947, Andy Dufresne (Tim Robbins), a banker...   \n",
       "2  The relocation of Polish Jews from surrounding...   \n",
       "3  The film opens in 1964, where an older and fat...   \n",
       "4  In the early years of World War II, December 1...   \n",
       "\n",
       "                                           comb_plot  \n",
       "0  On the day of his only daughter's wedding, Vit...  \n",
       "1  In 1947, banker Andy Dufresne is convicted of ...  \n",
       "2  In 1939, the Germans move Polish Jews into the...  \n",
       "3  In a brief scene in 1964, an aging, overweight...  \n",
       "4  It is early December 1941. American expatriate...  "
      ]
     },
     "execution_count": 4,
     "metadata": {},
     "output_type": "execute_result"
    }
   ],
   "source": [
    "df.head()"
   ]
  },
  {
   "cell_type": "markdown",
   "id": "7735d49a",
   "metadata": {},
   "source": [
    "## 3. Tokenization"
   ]
  },
  {
   "cell_type": "code",
   "execution_count": 12,
   "id": "2317f908",
   "metadata": {},
   "outputs": [],
   "source": [
    "from nltk.tokenize import word_tokenize\n",
    "from nltk.corpus import stopwords"
   ]
  },
  {
   "cell_type": "code",
   "execution_count": 13,
   "id": "4f7c8af2",
   "metadata": {},
   "outputs": [
    {
     "data": {
      "text/plain": [
       "rank           0\n",
       "title          0\n",
       "genre          0\n",
       "wiki_plot      0\n",
       "imdb_plot     10\n",
       "comb_plot     10\n",
       "tokens       100\n",
       "dtype: int64"
      ]
     },
     "execution_count": 13,
     "metadata": {},
     "output_type": "execute_result"
    }
   ],
   "source": [
    "df.isnull().sum()"
   ]
  },
  {
   "cell_type": "code",
   "execution_count": 14,
   "id": "fa90d175",
   "metadata": {},
   "outputs": [],
   "source": [
    "df['comb_plot'].fillna('', inplace = True)"
   ]
  },
  {
   "cell_type": "code",
   "execution_count": 24,
   "id": "884d4977",
   "metadata": {},
   "outputs": [],
   "source": [
    "# (5) Tokenize the summed plot column. During or before/after the tokenization step, remove punctuations, non-words, stop-words.\n",
    "# You can also work on a few pre-processing steps during the vectorization process.\n",
    "# keep the elements which contain letters only. (0.5 points)\n",
    "stop_words = stopwords.words('english')\n",
    "# print(df.dtypes)\n",
    "\n",
    "df['tokens'] = df['comb_plot'].apply(word_tokenize)\n",
    "df['tokens'] = df['tokens'].apply(lambda x: [word.lower() for word in x if word.isalpha() and word not in stop_words])\n"
   ]
  },
  {
   "cell_type": "code",
   "execution_count": 25,
   "id": "d948d78f",
   "metadata": {},
   "outputs": [
    {
     "data": {
      "text/html": [
       "<div>\n",
       "<style scoped>\n",
       "    .dataframe tbody tr th:only-of-type {\n",
       "        vertical-align: middle;\n",
       "    }\n",
       "\n",
       "    .dataframe tbody tr th {\n",
       "        vertical-align: top;\n",
       "    }\n",
       "\n",
       "    .dataframe thead th {\n",
       "        text-align: right;\n",
       "    }\n",
       "</style>\n",
       "<table border=\"1\" class=\"dataframe\">\n",
       "  <thead>\n",
       "    <tr style=\"text-align: right;\">\n",
       "      <th></th>\n",
       "      <th>rank</th>\n",
       "      <th>title</th>\n",
       "      <th>genre</th>\n",
       "      <th>wiki_plot</th>\n",
       "      <th>imdb_plot</th>\n",
       "      <th>comb_plot</th>\n",
       "      <th>tokens</th>\n",
       "    </tr>\n",
       "  </thead>\n",
       "  <tbody>\n",
       "    <tr>\n",
       "      <th>0</th>\n",
       "      <td>0</td>\n",
       "      <td>The Godfather</td>\n",
       "      <td>[u' Crime', u' Drama']</td>\n",
       "      <td>On the day of his only daughter's wedding, Vit...</td>\n",
       "      <td>In late summer 1945, guests are gathered for t...</td>\n",
       "      <td>On the day of his only daughter's wedding, Vit...</td>\n",
       "      <td>[on, day, daughter, wedding, vito, corleone, h...</td>\n",
       "    </tr>\n",
       "    <tr>\n",
       "      <th>1</th>\n",
       "      <td>1</td>\n",
       "      <td>The Shawshank Redemption</td>\n",
       "      <td>[u' Crime', u' Drama']</td>\n",
       "      <td>In 1947, banker Andy Dufresne is convicted of ...</td>\n",
       "      <td>In 1947, Andy Dufresne (Tim Robbins), a banker...</td>\n",
       "      <td>In 1947, banker Andy Dufresne is convicted of ...</td>\n",
       "      <td>[in, banker, andy, dufresne, convicted, murder...</td>\n",
       "    </tr>\n",
       "    <tr>\n",
       "      <th>2</th>\n",
       "      <td>2</td>\n",
       "      <td>Schindler's List</td>\n",
       "      <td>[u' Biography', u' Drama', u' History']</td>\n",
       "      <td>In 1939, the Germans move Polish Jews into the...</td>\n",
       "      <td>The relocation of Polish Jews from surrounding...</td>\n",
       "      <td>In 1939, the Germans move Polish Jews into the...</td>\n",
       "      <td>[in, germans, move, polish, jews, kraków, ghet...</td>\n",
       "    </tr>\n",
       "    <tr>\n",
       "      <th>3</th>\n",
       "      <td>3</td>\n",
       "      <td>Raging Bull</td>\n",
       "      <td>[u' Biography', u' Drama', u' Sport']</td>\n",
       "      <td>In a brief scene in 1964, an aging, overweight...</td>\n",
       "      <td>The film opens in 1964, where an older and fat...</td>\n",
       "      <td>In a brief scene in 1964, an aging, overweight...</td>\n",
       "      <td>[in, brief, scene, aging, overweight, italian,...</td>\n",
       "    </tr>\n",
       "    <tr>\n",
       "      <th>4</th>\n",
       "      <td>4</td>\n",
       "      <td>Casablanca</td>\n",
       "      <td>[u' Drama', u' Romance', u' War']</td>\n",
       "      <td>It is early December 1941. American expatriate...</td>\n",
       "      <td>In the early years of World War II, December 1...</td>\n",
       "      <td>It is early December 1941. American expatriate...</td>\n",
       "      <td>[it, early, december, american, expatriate, ri...</td>\n",
       "    </tr>\n",
       "  </tbody>\n",
       "</table>\n",
       "</div>"
      ],
      "text/plain": [
       "   rank                     title                                    genre  \\\n",
       "0     0             The Godfather                   [u' Crime', u' Drama']   \n",
       "1     1  The Shawshank Redemption                   [u' Crime', u' Drama']   \n",
       "2     2          Schindler's List  [u' Biography', u' Drama', u' History']   \n",
       "3     3               Raging Bull    [u' Biography', u' Drama', u' Sport']   \n",
       "4     4                Casablanca        [u' Drama', u' Romance', u' War']   \n",
       "\n",
       "                                           wiki_plot  \\\n",
       "0  On the day of his only daughter's wedding, Vit...   \n",
       "1  In 1947, banker Andy Dufresne is convicted of ...   \n",
       "2  In 1939, the Germans move Polish Jews into the...   \n",
       "3  In a brief scene in 1964, an aging, overweight...   \n",
       "4  It is early December 1941. American expatriate...   \n",
       "\n",
       "                                           imdb_plot  \\\n",
       "0  In late summer 1945, guests are gathered for t...   \n",
       "1  In 1947, Andy Dufresne (Tim Robbins), a banker...   \n",
       "2  The relocation of Polish Jews from surrounding...   \n",
       "3  The film opens in 1964, where an older and fat...   \n",
       "4  In the early years of World War II, December 1...   \n",
       "\n",
       "                                           comb_plot  \\\n",
       "0  On the day of his only daughter's wedding, Vit...   \n",
       "1  In 1947, banker Andy Dufresne is convicted of ...   \n",
       "2  In 1939, the Germans move Polish Jews into the...   \n",
       "3  In a brief scene in 1964, an aging, overweight...   \n",
       "4  It is early December 1941. American expatriate...   \n",
       "\n",
       "                                              tokens  \n",
       "0  [on, day, daughter, wedding, vito, corleone, h...  \n",
       "1  [in, banker, andy, dufresne, convicted, murder...  \n",
       "2  [in, germans, move, polish, jews, kraków, ghet...  \n",
       "3  [in, brief, scene, aging, overweight, italian,...  \n",
       "4  [it, early, december, american, expatriate, ri...  "
      ]
     },
     "execution_count": 25,
     "metadata": {},
     "output_type": "execute_result"
    }
   ],
   "source": [
    "df.head()"
   ]
  },
  {
   "cell_type": "markdown",
   "id": "ebf56dd4",
   "metadata": {},
   "source": [
    "## 4. Stemming"
   ]
  },
  {
   "cell_type": "code",
   "execution_count": 27,
   "id": "ede5de74",
   "metadata": {},
   "outputs": [],
   "source": [
    "#(6) stem the tokenized summed plot column using a Snowball Stemmer.\n",
    "# It is totally up to you whether you use a simple lemmatization or stemmer at this step. (0.5 points)\n",
    "\n",
    "# Import the SnowballStemmer.\n",
    "from nltk.stem.snowball import SnowballStemmer\n",
    "\n",
    "# Create an English language SnowballStemmer object\n",
    "stemmer = SnowballStemmer(\"english\")\n",
    "\n",
    "df['tokens'] = df['tokens'].apply(lambda x: [stemmer.stem(word) for word in x])"
   ]
  },
  {
   "cell_type": "code",
   "execution_count": 28,
   "id": "b9d2526e",
   "metadata": {},
   "outputs": [
    {
     "data": {
      "text/html": [
       "<div>\n",
       "<style scoped>\n",
       "    .dataframe tbody tr th:only-of-type {\n",
       "        vertical-align: middle;\n",
       "    }\n",
       "\n",
       "    .dataframe tbody tr th {\n",
       "        vertical-align: top;\n",
       "    }\n",
       "\n",
       "    .dataframe thead th {\n",
       "        text-align: right;\n",
       "    }\n",
       "</style>\n",
       "<table border=\"1\" class=\"dataframe\">\n",
       "  <thead>\n",
       "    <tr style=\"text-align: right;\">\n",
       "      <th></th>\n",
       "      <th>rank</th>\n",
       "      <th>title</th>\n",
       "      <th>genre</th>\n",
       "      <th>wiki_plot</th>\n",
       "      <th>imdb_plot</th>\n",
       "      <th>comb_plot</th>\n",
       "      <th>tokens</th>\n",
       "    </tr>\n",
       "  </thead>\n",
       "  <tbody>\n",
       "    <tr>\n",
       "      <th>0</th>\n",
       "      <td>0</td>\n",
       "      <td>The Godfather</td>\n",
       "      <td>[u' Crime', u' Drama']</td>\n",
       "      <td>On the day of his only daughter's wedding, Vit...</td>\n",
       "      <td>In late summer 1945, guests are gathered for t...</td>\n",
       "      <td>On the day of his only daughter's wedding, Vit...</td>\n",
       "      <td>[on, day, daughter, wed, vito, corleon, hear, ...</td>\n",
       "    </tr>\n",
       "    <tr>\n",
       "      <th>1</th>\n",
       "      <td>1</td>\n",
       "      <td>The Shawshank Redemption</td>\n",
       "      <td>[u' Crime', u' Drama']</td>\n",
       "      <td>In 1947, banker Andy Dufresne is convicted of ...</td>\n",
       "      <td>In 1947, Andy Dufresne (Tim Robbins), a banker...</td>\n",
       "      <td>In 1947, banker Andy Dufresne is convicted of ...</td>\n",
       "      <td>[in, banker, andi, dufresn, convict, murder, w...</td>\n",
       "    </tr>\n",
       "    <tr>\n",
       "      <th>2</th>\n",
       "      <td>2</td>\n",
       "      <td>Schindler's List</td>\n",
       "      <td>[u' Biography', u' Drama', u' History']</td>\n",
       "      <td>In 1939, the Germans move Polish Jews into the...</td>\n",
       "      <td>The relocation of Polish Jews from surrounding...</td>\n",
       "      <td>In 1939, the Germans move Polish Jews into the...</td>\n",
       "      <td>[in, german, move, polish, jew, kraków, ghetto...</td>\n",
       "    </tr>\n",
       "    <tr>\n",
       "      <th>3</th>\n",
       "      <td>3</td>\n",
       "      <td>Raging Bull</td>\n",
       "      <td>[u' Biography', u' Drama', u' Sport']</td>\n",
       "      <td>In a brief scene in 1964, an aging, overweight...</td>\n",
       "      <td>The film opens in 1964, where an older and fat...</td>\n",
       "      <td>In a brief scene in 1964, an aging, overweight...</td>\n",
       "      <td>[in, brief, scene, age, overweight, italian, a...</td>\n",
       "    </tr>\n",
       "    <tr>\n",
       "      <th>4</th>\n",
       "      <td>4</td>\n",
       "      <td>Casablanca</td>\n",
       "      <td>[u' Drama', u' Romance', u' War']</td>\n",
       "      <td>It is early December 1941. American expatriate...</td>\n",
       "      <td>In the early years of World War II, December 1...</td>\n",
       "      <td>It is early December 1941. American expatriate...</td>\n",
       "      <td>[it, earli, decemb, american, expatri, rick, b...</td>\n",
       "    </tr>\n",
       "  </tbody>\n",
       "</table>\n",
       "</div>"
      ],
      "text/plain": [
       "   rank                     title                                    genre  \\\n",
       "0     0             The Godfather                   [u' Crime', u' Drama']   \n",
       "1     1  The Shawshank Redemption                   [u' Crime', u' Drama']   \n",
       "2     2          Schindler's List  [u' Biography', u' Drama', u' History']   \n",
       "3     3               Raging Bull    [u' Biography', u' Drama', u' Sport']   \n",
       "4     4                Casablanca        [u' Drama', u' Romance', u' War']   \n",
       "\n",
       "                                           wiki_plot  \\\n",
       "0  On the day of his only daughter's wedding, Vit...   \n",
       "1  In 1947, banker Andy Dufresne is convicted of ...   \n",
       "2  In 1939, the Germans move Polish Jews into the...   \n",
       "3  In a brief scene in 1964, an aging, overweight...   \n",
       "4  It is early December 1941. American expatriate...   \n",
       "\n",
       "                                           imdb_plot  \\\n",
       "0  In late summer 1945, guests are gathered for t...   \n",
       "1  In 1947, Andy Dufresne (Tim Robbins), a banker...   \n",
       "2  The relocation of Polish Jews from surrounding...   \n",
       "3  The film opens in 1964, where an older and fat...   \n",
       "4  In the early years of World War II, December 1...   \n",
       "\n",
       "                                           comb_plot  \\\n",
       "0  On the day of his only daughter's wedding, Vit...   \n",
       "1  In 1947, banker Andy Dufresne is convicted of ...   \n",
       "2  In 1939, the Germans move Polish Jews into the...   \n",
       "3  In a brief scene in 1964, an aging, overweight...   \n",
       "4  It is early December 1941. American expatriate...   \n",
       "\n",
       "                                              tokens  \n",
       "0  [on, day, daughter, wed, vito, corleon, hear, ...  \n",
       "1  [in, banker, andi, dufresn, convict, murder, w...  \n",
       "2  [in, german, move, polish, jew, kraków, ghetto...  \n",
       "3  [in, brief, scene, age, overweight, italian, a...  \n",
       "4  [it, earli, decemb, american, expatri, rick, b...  "
      ]
     },
     "execution_count": 28,
     "metadata": {},
     "output_type": "execute_result"
    }
   ],
   "source": [
    "df.head()"
   ]
  },
  {
   "cell_type": "markdown",
   "id": "3105fad3",
   "metadata": {},
   "source": [
    "## 5. Generate TF-IDF Vectorizer"
   ]
  },
  {
   "cell_type": "code",
   "execution_count": 37,
   "id": "7802ae40",
   "metadata": {},
   "outputs": [],
   "source": [
    "# 1 point\n",
    "\n",
    "#(7)-1 use a tf-idf vectorizer to create TF-IDF vectors. \n",
    "#(7)-2 You can adjust a few parameters within tf-idf Vectorizer object such as removing stopwords, including bigrams \n",
    "# for efficient processing of text.\n",
    "#(7)-3 To filter out some terms that are too frequent and infrequent, you may add parameters such as max_df & min_df \n",
    "# and set the values as 0.8 & 0.2 respectively.\n",
    "from sklearn.feature_extraction.text import TfidfVectorizer\n",
    "\n",
    "tfidf = TfidfVectorizer(stop_words='english', ngram_range=(1,2), max_df=0.8, min_df=0.2)"
   ]
  },
  {
   "cell_type": "markdown",
   "id": "3f82a478",
   "metadata": {},
   "source": [
    "## 6. Fit_transform TF-IDF Vectorizer"
   ]
  },
  {
   "cell_type": "code",
   "execution_count": 39,
   "id": "9234e3ec",
   "metadata": {},
   "outputs": [
    {
     "data": {
      "text/plain": [
       "<100x513 sparse matrix of type '<class 'numpy.float64'>'\n",
       "\twith 17860 stored elements in Compressed Sparse Row format>"
      ]
     },
     "execution_count": 39,
     "metadata": {},
     "output_type": "execute_result"
    }
   ],
   "source": [
    "# (8) Fit and transform the tfidf_vectorizer with the summed plot column for each movie\n",
    "# to create a vector representation of the plot summaries (0.5 points)\n",
    "df['tokens'] = df['tokens'].apply(lambda x: \" \".join(x))\n",
    "matrix = tfidf.fit_transform(df['tokens'])\n",
    "matrix"
   ]
  },
  {
   "cell_type": "markdown",
   "id": "50196ee3",
   "metadata": {},
   "source": [
    "## 7. Calculate Similarity Index"
   ]
  },
  {
   "cell_type": "code",
   "execution_count": 43,
   "id": "c5950136",
   "metadata": {},
   "outputs": [
    {
     "name": "stdout",
     "output_type": "stream",
     "text": [
      "2D Array Matrix:\n",
      "[[0.         0.         0.08734528 ... 0.0577582  0.04096193 0.        ]\n",
      " [0.         0.02501073 0.         ... 0.         0.01012462 0.        ]\n",
      " [0.         0.01942657 0.         ... 0.         0.         0.        ]\n",
      " ...\n",
      " [0.         0.         0.02209502 ... 0.         0.01813315 0.        ]\n",
      " [0.03003858 0.03626656 0.         ... 0.02760136 0.01957479 0.        ]\n",
      " [0.         0.         0.         ... 0.         0.         0.        ]]\n",
      "\n",
      "Shape of array matrix:\n",
      "(100, 100)\n",
      "\n",
      "Cosine Similarity Scores Matrix:\n",
      "[[1.         0.20669533 0.24387713 ... 0.35908863 0.33308302 0.        ]\n",
      " [0.20669533 1.         0.28490442 ... 0.28896677 0.25203997 0.        ]\n",
      " [0.24387713 0.28490442 1.         ... 0.28847352 0.25455063 0.        ]\n",
      " ...\n",
      " [0.35908863 0.28896677 0.28847352 ... 1.         0.56107682 0.        ]\n",
      " [0.33308302 0.25203997 0.25455063 ... 0.56107682 1.         0.        ]\n",
      " [0.         0.         0.         ... 0.         0.         0.        ]]\n"
     ]
    }
   ],
   "source": [
    "# 1 point\n",
    "\n",
    "# (9)-1\n",
    "# Import cosine_similarity to calculate similarity of movie plots.\n",
    "from sklearn.metrics.pairwise import cosine_similarity\n",
    "\n",
    "# (9)-2 show 2D array matrix.\n",
    "print(\"2D Array Matrix:\", matrix.toarray(), sep='\\n')\n",
    "\n",
    "# (9)-3 calculate cos similarity scores for all the combinations.\n",
    "#You should come up with a 100 by 100 array matrix.\n",
    "cosine_sim=cosine_similarity(matrix)\n",
    "print(\"\\nShape of array matrix:\", cosine_sim.shape, sep='\\n')\n",
    "print(\"\\nCosine Similarity Scores Matrix:\", cosine_sim, sep='\\n')"
   ]
  },
  {
   "cell_type": "markdown",
   "id": "13b29c85",
   "metadata": {},
   "source": [
    "## 8. Build a Small Recommendation Algorithm based on Similarity Score"
   ]
  },
  {
   "cell_type": "code",
   "execution_count": 48,
   "id": "9862cb13",
   "metadata": {},
   "outputs": [
    {
     "name": "stdout",
     "output_type": "stream",
     "text": [
      "title\n",
      "The Godfather                0\n",
      "The Shawshank Redemption     1\n",
      "Schindler's List             2\n",
      "Raging Bull                  3\n",
      "Casablanca                   4\n",
      "                            ..\n",
      "Rebel Without a Cause       95\n",
      "Rear Window                 96\n",
      "The Third Man               97\n",
      "North by Northwest          98\n",
      "Yankee Doodle Dandy         99\n",
      "Length: 100, dtype: int64\n",
      "(100,)\n"
     ]
    }
   ],
   "source": [
    "# create a defined function which gives you top 10 most similar movies (based on their similarity scores) to a focal movie\n",
    "# that you type in. This part has been done for you.\n",
    "\n",
    "# Generate mapping between titles and index.\n",
    "indices = pd.Series(df.index, index=df['title']).drop_duplicates()\n",
    "print (indices)\n",
    "print (indices.shape)\n",
    "\n",
    "def get_recommendations(title, cosine_sim, indices):\n",
    "    # Get index of movie that corresponds to a title.\n",
    "    idx = indices[title]\n",
    "    \n",
    "    # Sort the movies based on the similarity scores\n",
    "    sim_scores = list(enumerate(cosine_sim[idx]))\n",
    "    \n",
    "    #sort the scores from highest to lowest (descending).\n",
    "    sim_scores = sorted(sim_scores, key=lambda x: x[1], reverse=True)\n",
    "    \n",
    "    # Get the scores for 10 most similar movies EXCEPT FOR the 1st highest one (itself).\n",
    "    sim_scores = sim_scores[1:11]\n",
    "    \n",
    "    # Get the movie indices\n",
    "    movie_indices = [i[0] for i in sim_scores]\n",
    "    \n",
    "    # Return the top 10 most similar movies\n",
    "    result=df['title'].iloc[movie_indices]\n",
    "\n",
    "    return result"
   ]
  },
  {
   "cell_type": "markdown",
   "id": "56574705",
   "metadata": {},
   "source": [
    "## 9. What are the similar movies of a focal movie? "
   ]
  },
  {
   "cell_type": "code",
   "execution_count": 50,
   "id": "e3e40130",
   "metadata": {},
   "outputs": [
    {
     "name": "stdout",
     "output_type": "stream",
     "text": [
      "21                                2001: A Space Odyssey\n",
      "38                              Raiders of the Lost Ark\n",
      "33        The Lord of the Rings: The Return of the King\n",
      "81                   Close Encounters of the Third Kind\n",
      "98                                   North by Northwest\n",
      "97                                        The Third Man\n",
      "29    Dr. Strangelove or: How I Learned to Stop Worr...\n",
      "34                                            Gladiator\n",
      "9                                               Titanic\n",
      "5                       One Flew Over the Cuckoo's Nest\n",
      "Name: title, dtype: object\n"
     ]
    }
   ],
   "source": [
    "# e.g. what are the top 10 similar movies for the movie 'Star Wars'?\n",
    "\n",
    "print(get_recommendations('Star Wars', cosine_sim, indices))"
   ]
  }
 ],
 "metadata": {
  "kernelspec": {
   "display_name": "Python 3 (ipykernel)",
   "language": "python",
   "name": "python3"
  },
  "language_info": {
   "codemirror_mode": {
    "name": "ipython",
    "version": 3
   },
   "file_extension": ".py",
   "mimetype": "text/x-python",
   "name": "python",
   "nbconvert_exporter": "python",
   "pygments_lexer": "ipython3",
   "version": "3.8.2"
  }
 },
 "nbformat": 4,
 "nbformat_minor": 5
}
