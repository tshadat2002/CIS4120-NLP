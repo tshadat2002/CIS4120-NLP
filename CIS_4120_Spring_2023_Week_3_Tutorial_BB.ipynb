{
 "cells": [
  {
   "cell_type": "markdown",
   "metadata": {
    "id": "YFhIktmFmU_P"
   },
   "source": [
    "## Week 3 Codes for Pre-processing Raw Text"
   ]
  },
  {
   "cell_type": "markdown",
   "metadata": {
    "id": "y2A-H8PS6cn3"
   },
   "source": [
    "###connect Colab to your Google Drive."
   ]
  },
  {
   "cell_type": "code",
   "execution_count": null,
   "metadata": {
    "id": "F5ZeYgeZmUYs"
   },
   "outputs": [],
   "source": [
    "#connect Colab to your Google Drive.\n",
    "from google.colab import drive\n",
    "import os\n",
    "drive.mount('/content/gdrive')"
   ]
  },
  {
   "cell_type": "code",
   "execution_count": 1,
   "metadata": {
    "id": "QhJHcdLUmUa0"
   },
   "outputs": [],
   "source": [
    "# (1) import pandas library\n",
    "import pandas as pd"
   ]
  },
  {
   "cell_type": "markdown",
   "metadata": {
    "id": "K7ZMvsfh6fh-"
   },
   "source": [
    "###import a csv file."
   ]
  },
  {
   "cell_type": "code",
   "execution_count": 3,
   "metadata": {
    "id": "bsG_8xfymY2X"
   },
   "outputs": [
    {
     "data": {
      "text/html": [
       "<div>\n",
       "<style scoped>\n",
       "    .dataframe tbody tr th:only-of-type {\n",
       "        vertical-align: middle;\n",
       "    }\n",
       "\n",
       "    .dataframe tbody tr th {\n",
       "        vertical-align: top;\n",
       "    }\n",
       "\n",
       "    .dataframe thead th {\n",
       "        text-align: right;\n",
       "    }\n",
       "</style>\n",
       "<table border=\"1\" class=\"dataframe\">\n",
       "  <thead>\n",
       "    <tr style=\"text-align: right;\">\n",
       "      <th></th>\n",
       "      <th>listing_id</th>\n",
       "      <th>id</th>\n",
       "      <th>date</th>\n",
       "      <th>reviewer_id</th>\n",
       "      <th>reviewer_name</th>\n",
       "      <th>comments</th>\n",
       "    </tr>\n",
       "  </thead>\n",
       "  <tbody>\n",
       "    <tr>\n",
       "      <th>0</th>\n",
       "      <td>3831</td>\n",
       "      <td>20509269</td>\n",
       "      <td>9/30/2014</td>\n",
       "      <td>20417598</td>\n",
       "      <td>Courtney</td>\n",
       "      <td>lisa is a wonderful, kind and thoughtful host....</td>\n",
       "    </tr>\n",
       "    <tr>\n",
       "      <th>1</th>\n",
       "      <td>3831</td>\n",
       "      <td>22232975</td>\n",
       "      <td>11/2/2014</td>\n",
       "      <td>6050386</td>\n",
       "      <td>Monica</td>\n",
       "      <td>The best thing about this place is the locatio...</td>\n",
       "    </tr>\n",
       "    <tr>\n",
       "      <th>2</th>\n",
       "      <td>3831</td>\n",
       "      <td>22550887</td>\n",
       "      <td>11/9/2014</td>\n",
       "      <td>15051380</td>\n",
       "      <td>Lynette</td>\n",
       "      <td>LisaRoxanne was friendly and helpful. The room...</td>\n",
       "    </tr>\n",
       "    <tr>\n",
       "      <th>3</th>\n",
       "      <td>3831</td>\n",
       "      <td>22984049</td>\n",
       "      <td>11/19/2014</td>\n",
       "      <td>7279245</td>\n",
       "      <td>Linnea</td>\n",
       "      <td>LisaRoxanne is very nice and communicative. Th...</td>\n",
       "    </tr>\n",
       "    <tr>\n",
       "      <th>4</th>\n",
       "      <td>3831</td>\n",
       "      <td>23604706</td>\n",
       "      <td>12/6/2014</td>\n",
       "      <td>16310850</td>\n",
       "      <td>Benjamin</td>\n",
       "      <td>Lisa was a very pleasant and nice host that ac...</td>\n",
       "    </tr>\n",
       "  </tbody>\n",
       "</table>\n",
       "</div>"
      ],
      "text/plain": [
       "   listing_id        id        date  reviewer_id reviewer_name  \\\n",
       "0        3831  20509269   9/30/2014     20417598      Courtney   \n",
       "1        3831  22232975   11/2/2014      6050386        Monica   \n",
       "2        3831  22550887   11/9/2014     15051380       Lynette   \n",
       "3        3831  22984049  11/19/2014      7279245        Linnea   \n",
       "4        3831  23604706   12/6/2014     16310850      Benjamin   \n",
       "\n",
       "                                            comments  \n",
       "0  lisa is a wonderful, kind and thoughtful host....  \n",
       "1  The best thing about this place is the locatio...  \n",
       "2  LisaRoxanne was friendly and helpful. The room...  \n",
       "3  LisaRoxanne is very nice and communicative. Th...  \n",
       "4  Lisa was a very pleasant and nice host that ac...  "
      ]
     },
     "execution_count": 3,
     "metadata": {},
     "output_type": "execute_result"
    }
   ],
   "source": [
    "#import csv file and put it into a Pandas dataframe.\n",
    "data=pd.read_csv('Review_NYC.csv')\n",
    "data.head()"
   ]
  },
  {
   "cell_type": "code",
   "execution_count": 8,
   "metadata": {
    "id": "6GEgc_brmY4l"
   },
   "outputs": [
    {
     "name": "stdout",
     "output_type": "stream",
     "text": [
      "Shape: (12618, 6)\n",
      "Column Names ['listing_id' 'id' 'date' 'reviewer_id' 'reviewer_name' 'comments']\n",
      "Unique Reviews [20417598  6050386 15051380 ...   548577  7646594 45617804]\n"
     ]
    }
   ],
   "source": [
    "# (2) \n",
    "\n",
    "#How many columns and rows?\n",
    "print (\"Shape:\", data.shape)\n",
    "\n",
    "#Column names?\n",
    "print (\"Column Names\",data.columns.values)\n",
    "\n",
    "#To double-check if there's any duplicated review IDs.\n",
    "print (\"Unique Reviews\", data['reviewer_id'].unique())"
   ]
  },
  {
   "cell_type": "code",
   "execution_count": 9,
   "metadata": {
    "id": "O-yIyrMhmY7N"
   },
   "outputs": [
    {
     "name": "stdout",
     "output_type": "stream",
     "text": [
      "     listing_id         id       date  reviewer_id reviewer_name  \\\n",
      "0          3831   20509269  9/30/2014     20417598      Courtney   \n",
      "172        3831  244762757  3/19/2018    152473737          Paul   \n",
      "173        3831  245793931  3/23/2018    161128121          Luis   \n",
      "174        3831  246021106  3/24/2018    116448503          Yoko   \n",
      "175        3831  249683841   4/2/2018      1489158       Heather   \n",
      "176        3831  251787475   4/8/2018     46176717         Gavin   \n",
      "177        3831  252438239  4/10/2018    136645203   Christopher   \n",
      "178        3831  253179199  4/13/2018    169554468        Rachel   \n",
      "179        3831  260965550   5/5/2018    155981808         Megan   \n",
      "180        3831  262041837   5/7/2018     60903143           Ann   \n",
      "\n",
      "                                              comments  \n",
      "0    lisa is a wonderful, kind and thoughtful host....  \n",
      "172  Excellently placed for communting into Manhatt...  \n",
      "173  Lisa is nice and receptive, I love the place, ...  \n",
      "174  Thank you for your warm welcome, Lisa. \\nYou w...  \n",
      "175  The apartment is a great location, you can get...  \n",
      "176  Lisa Roxanne was a great host and very accommo...  \n",
      "177       Great value for New York. Nice neighborhood.  \n",
      "178  Wonderful host , so kind and helpful with lots...  \n",
      "179  This place was great. Very clean and enjoyable...  \n",
      "180  The location is great, and this is probably th...  \n"
     ]
    }
   ],
   "source": [
    "# (3) sort by listing_id\n",
    "\n",
    "data = data.sort_values(by = 'listing_id')\n",
    "print (data.iloc[:10,:])"
   ]
  },
  {
   "cell_type": "code",
   "execution_count": 10,
   "metadata": {
    "id": "9OVFPTeWmY9u"
   },
   "outputs": [
    {
     "name": "stdout",
     "output_type": "stream",
     "text": [
      "Shape:                                                 comments\n",
      "0      lisa is a wonderful, kind and thoughtful host....\n",
      "172    Excellently placed for communting into Manhatt...\n",
      "173    Lisa is nice and receptive, I love the place, ...\n",
      "174    Thank you for your warm welcome, Lisa. \\nYou w...\n",
      "175    The apartment is a great location, you can get...\n",
      "...                                                  ...\n",
      "12479  Evelyn's place was just stunning. I was very h...\n",
      "12480  I stayed here with my wife and our 15 month ol...\n",
      "12481  Such a beautiful home. Evelyn and her boyfrien...\n",
      "12484  My parents had a lovely time staying in Evelyn...\n",
      "12617  Evelyn Is the perfect host.\\r\\nI felt so welco...\n",
      "\n",
      "[12618 rows x 1 columns]\n",
      "Column Names                                                 comments\n",
      "0      lisa is a wonderful, kind and thoughtful host....\n",
      "172    Excellently placed for communting into Manhatt...\n",
      "173    Lisa is nice and receptive, I love the place, ...\n",
      "174    Thank you for your warm welcome, Lisa. \\nYou w...\n",
      "175    The apartment is a great location, you can get...\n",
      "...                                                  ...\n",
      "12479  Evelyn's place was just stunning. I was very h...\n",
      "12480  I stayed here with my wife and our 15 month ol...\n",
      "12481  Such a beautiful home. Evelyn and her boyfrien...\n",
      "12484  My parents had a lovely time staying in Evelyn...\n",
      "12617  Evelyn Is the perfect host.\\r\\nI felt so welco...\n",
      "\n",
      "[12618 rows x 1 columns]\n",
      "                                                comments\n",
      "0      lisa is a wonderful, kind and thoughtful host....\n",
      "172    Excellently placed for communting into Manhatt...\n",
      "173    Lisa is nice and receptive, I love the place, ...\n",
      "174    Thank you for your warm welcome, Lisa. \\nYou w...\n",
      "175    The apartment is a great location, you can get...\n",
      "...                                                  ...\n",
      "12479  Evelyn's place was just stunning. I was very h...\n",
      "12480  I stayed here with my wife and our 15 month ol...\n",
      "12481  Such a beautiful home. Evelyn and her boyfrien...\n",
      "12484  My parents had a lovely time staying in Evelyn...\n",
      "12617  Evelyn Is the perfect host.\\r\\nI felt so welco...\n",
      "\n",
      "[12618 rows x 1 columns]\n"
     ]
    }
   ],
   "source": [
    "# We will focus on comments column which is a text data.\n",
    "data_text=data['comments']\n",
    "data_text=pd.DataFrame(data_text)\n",
    "\n",
    "# (4)\n",
    "#How many columns and rows?\n",
    "print (\"Shape:\", data_text)\n",
    "#Column names?\n",
    "print (\"Column Names\", data_text)\n",
    "#print the first 10 observations.\n",
    "print (data_text)"
   ]
  },
  {
   "cell_type": "code",
   "execution_count": null,
   "metadata": {
    "id": "GZ2VFdBvmZAF"
   },
   "outputs": [],
   "source": [
    "#expand column width.\n",
    "#pd.set_option('display.max_colwidth', 200)\n",
    "#print (data.iloc[:10,:])"
   ]
  },
  {
   "cell_type": "markdown",
   "metadata": {
    "id": "MDXvAR5b63DI"
   },
   "source": [
    "### Lower-case"
   ]
  },
  {
   "cell_type": "code",
   "execution_count": null,
   "metadata": {
    "id": "sbXJtPCEmUgu"
   },
   "outputs": [],
   "source": [
    "#apply lower-case function.\n",
    "data_text['comments']=data_text['comments'].str.lower()\n",
    "print (data_text.iloc[:10,:])"
   ]
  },
  {
   "cell_type": "code",
   "execution_count": null,
   "metadata": {
    "id": "L5IWfvkb-Ur0"
   },
   "outputs": [],
   "source": [
    "#RegexpTokenizer\n",
    "#from nltk.tokenize import regexp_tokenize\n",
    "#from nltk import RegexpTokenizer\n",
    "#tokenizer_re=RegexpTokenizer(\"[\\w]+\")\n",
    "#data_text['comments']=data_text['comments'].map(tokenizer_re.tokenize)"
   ]
  },
  {
   "cell_type": "markdown",
   "metadata": {
    "id": "fBxlIHVr654A"
   },
   "source": [
    "### Tokenization"
   ]
  },
  {
   "cell_type": "code",
   "execution_count": null,
   "metadata": {
    "id": "ZZSR8NkrmUil"
   },
   "outputs": [],
   "source": [
    "#tokenize the raw strings.\n",
    "import nltk\n",
    "nltk.download('punkt')\n",
    "from nltk.tokenize import word_tokenize\n",
    "\n",
    "# (5) use word_tokenize to tokenize raw strings.\n"
   ]
  },
  {
   "cell_type": "markdown",
   "metadata": {
    "id": "Gu6vTX1V6-PA"
   },
   "source": [
    "### Remove Stop words & Punctuations"
   ]
  },
  {
   "cell_type": "code",
   "execution_count": null,
   "metadata": {
    "id": "2sImIXRmmUkV"
   },
   "outputs": [],
   "source": [
    "from nltk.corpus import stopwords\n",
    "nltk.download('stopwords')\n",
    "nltk_stop_words=stopwords.words('english')\n",
    "\n",
    "# (6) remove stop-words (7) punctuations (this code is given ->>) the length of a token is less than 2.\n",
    "data_text['comments']=data_text['comments'].apply(lambda words: [word for word in words if  and  and len(word) > 2])\n",
    "print (data_text.iloc[:10,:])"
   ]
  },
  {
   "cell_type": "code",
   "execution_count": null,
   "metadata": {
    "id": "CXWqu33I7MVi"
   },
   "outputs": [],
   "source": []
  },
  {
   "cell_type": "code",
   "execution_count": null,
   "metadata": {
    "id": "FMf_tRfYmUmQ"
   },
   "outputs": [],
   "source": [
    "from nltk.stem import WordNetLemmatizer\n",
    "nltk.download('wordnet')\n",
    "\n",
    "def lemmatize_text(text):\n",
    "  text=[WordNetLemmatizer().lemmatize(w, pos='v') for w in text]    #verb\n",
    "  text=[WordNetLemmatizer().lemmatize(w, pos='n') for w in text]      #noun\n",
    "  text=[WordNetLemmatizer().lemmatize(w, pos='a') for w in text]      #adjective\n",
    "  return text\n"
   ]
  },
  {
   "cell_type": "code",
   "execution_count": null,
   "metadata": {
    "id": "3aJWTEaCmUod"
   },
   "outputs": [],
   "source": [
    "nltk.download('omw-1.4')\n",
    "\n",
    "#apply the above lemmatization code block.\n",
    "data_text['comments']=data_text['comments'].apply(lemmatize_text)\n",
    "print (data_text.iloc[:10,:])"
   ]
  },
  {
   "cell_type": "code",
   "execution_count": null,
   "metadata": {
    "id": "O5gx6Jj6mUqd"
   },
   "outputs": [],
   "source": []
  }
 ],
 "metadata": {
  "colab": {
   "provenance": []
  },
  "kernelspec": {
   "display_name": "Python 3 (ipykernel)",
   "language": "python",
   "name": "python3"
  },
  "language_info": {
   "codemirror_mode": {
    "name": "ipython",
    "version": 3
   },
   "file_extension": ".py",
   "mimetype": "text/x-python",
   "name": "python",
   "nbconvert_exporter": "python",
   "pygments_lexer": "ipython3",
   "version": "3.8.2"
  }
 },
 "nbformat": 4,
 "nbformat_minor": 1
}
